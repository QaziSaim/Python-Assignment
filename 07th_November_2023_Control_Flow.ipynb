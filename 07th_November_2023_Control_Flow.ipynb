{
  "nbformat": 4,
  "nbformat_minor": 0,
  "metadata": {
    "colab": {
      "provenance": [],
      "authorship_tag": "ABX9TyPIeAbwrABxOcfawca/yfAI",
      "include_colab_link": true
    },
    "kernelspec": {
      "name": "python3",
      "display_name": "Python 3"
    },
    "language_info": {
      "name": "python"
    }
  },
  "cells": [
    {
      "cell_type": "markdown",
      "metadata": {
        "id": "view-in-github",
        "colab_type": "text"
      },
      "source": [
        "<a href=\"https://colab.research.google.com/github/QaziSaim/Python-Assignment/blob/main/07th_November_2023_Control_Flow.ipynb\" target=\"_parent\"><img src=\"https://colab.research.google.com/assets/colab-badge.svg\" alt=\"Open In Colab\"/></a>"
      ]
    },
    {
      "cell_type": "markdown",
      "source": [
        "#Assignment No 4 : Control Flow"
      ],
      "metadata": {
        "id": "t-bP9iulVvQZ"
      }
    },
    {
      "cell_type": "markdown",
      "source": [
        "**Basic If-Else Statements:**\n",
        "1. Write a Python program to check if a given number is positive or negative.\n",
        "2. Create a program that determines if a person is eligible to vote based on their age.\n",
        "3. Develop a program to find the maximum of two numbers using if-else statements.\n",
        "4. Write a Python script to classify a given year as a leap year or not.\n",
        "5. Create a program that checks whether a character is a vowel or a consonant.\n",
        "6. Implement a program to determine whether a given number is even or odd.\n",
        "7. Write a Python function to calculate the absolute value of a number without using the `abs()` function.\n",
        "8. Develop a program that determines the largest of three given numbers using if-else statements.\n",
        "9. Create a program that checks if a given string is a palindrome.\n",
        "10. Write a Python program to calculate the grade based on a student's score."
      ],
      "metadata": {
        "id": "--PzQSIFVus-"
      }
    },
    {
      "cell_type": "code",
      "execution_count": 65,
      "metadata": {
        "colab": {
          "base_uri": "https://localhost:8080/"
        },
        "id": "CnKySWjjVfLf",
        "outputId": "da084991-64ce-4ee1-942c-cb30518ba12b"
      },
      "outputs": [
        {
          "output_type": "stream",
          "name": "stdout",
          "text": [
            "Number is positive 20\n"
          ]
        }
      ],
      "source": [
        "# Question No 1\n",
        "num=20\n",
        "if num < 0:\n",
        "  print(f'Number is negative num =  {num}')\n",
        "else:\n",
        "  print(f'Number is positive {num}')\n"
      ]
    },
    {
      "cell_type": "code",
      "source": [
        "# Question No 2:\n",
        "age = 16\n",
        "if age<18:\n",
        "  print(\"Person is not eligible for vote \", age)\n",
        "else:\n",
        "  print(\"Person is eligible for vote\",age)"
      ],
      "metadata": {
        "colab": {
          "base_uri": "https://localhost:8080/"
        },
        "id": "QmTlY8yEXZP4",
        "outputId": "0a490408-84d9-4ae3-8e4f-ac5edeb19447"
      },
      "execution_count": 66,
      "outputs": [
        {
          "output_type": "stream",
          "name": "stdout",
          "text": [
            "Person is not eligible for vote  16\n"
          ]
        }
      ]
    },
    {
      "cell_type": "code",
      "source": [
        "# Question No 3:\n",
        "number = 102\n",
        "if number>100:\n",
        "  print('The number is maximum')\n",
        "else:\n",
        "  print('The number is not maximum')"
      ],
      "metadata": {
        "colab": {
          "base_uri": "https://localhost:8080/"
        },
        "id": "xERElLe_X5ph",
        "outputId": "4f38bd0f-0ffb-4e1f-8891-93ad35b8e551"
      },
      "execution_count": 67,
      "outputs": [
        {
          "output_type": "stream",
          "name": "stdout",
          "text": [
            "The number is maximum\n"
          ]
        }
      ]
    },
    {
      "cell_type": "code",
      "source": [
        "# Question No 4:\n",
        "year = 2000\n",
        "if year % 4 ==0 and year % 400 ==0:\n",
        "  print(\"The year is leap\")\n",
        "else:\n",
        "  print(\"Year is not leap year = \",year)"
      ],
      "metadata": {
        "colab": {
          "base_uri": "https://localhost:8080/"
        },
        "id": "3kYnyOCqXq6h",
        "outputId": "9ed6c9cb-5f46-475c-9176-730127b51bbf"
      },
      "execution_count": 68,
      "outputs": [
        {
          "output_type": "stream",
          "name": "stdout",
          "text": [
            "The year is leap\n"
          ]
        }
      ]
    },
    {
      "cell_type": "code",
      "source": [
        "# Question No 5:\n",
        "Name = 'A'\n",
        "Vowel = ['a','e','i','o','u','A','E','I','O','U']\n",
        "if Name in Vowel:\n",
        "  print(True)\n",
        "else:\n",
        "  False"
      ],
      "metadata": {
        "id": "c9EbDsgDXq2_",
        "colab": {
          "base_uri": "https://localhost:8080/"
        },
        "outputId": "8d53d299-26bb-4d28-e263-caf6d607552c"
      },
      "execution_count": 69,
      "outputs": [
        {
          "output_type": "stream",
          "name": "stdout",
          "text": [
            "True\n"
          ]
        }
      ]
    },
    {
      "cell_type": "code",
      "source": [
        "# Question No 6:\n",
        "num=20\n",
        "if num % 2 == 0:\n",
        "  print(f'Number is positive {num}')\n",
        "else:\n",
        "  print(f'Number is positive {num}')"
      ],
      "metadata": {
        "colab": {
          "base_uri": "https://localhost:8080/"
        },
        "id": "DXkp9VT1XqzR",
        "outputId": "500d2349-b4d2-445d-ebdb-3c849530f451"
      },
      "execution_count": 70,
      "outputs": [
        {
          "output_type": "stream",
          "name": "stdout",
          "text": [
            "Number is positive 20\n"
          ]
        }
      ]
    },
    {
      "cell_type": "code",
      "source": [
        "# Question No 7:\n",
        "def my_abs(value):\n",
        "    if value <= 0:\n",
        "        return value * -1\n",
        "    return value * 1\n",
        "\n",
        "print(my_abs(-3.5))"
      ],
      "metadata": {
        "id": "V_0d3JaiXqtY",
        "colab": {
          "base_uri": "https://localhost:8080/"
        },
        "outputId": "655ac483-76e1-42cc-94e8-4462d64d44ea"
      },
      "execution_count": 71,
      "outputs": [
        {
          "output_type": "stream",
          "name": "stdout",
          "text": [
            "3.5\n"
          ]
        }
      ]
    },
    {
      "cell_type": "code",
      "source": [
        "# Question No 8:\n",
        "def max_of_all(n1, n2, n3):\n",
        "  if n1 >= n2 and n1 >= n3:\n",
        "    largest = n1\n",
        "  elif n2 >= n1 and n2 >= n3:\n",
        "    largest = n2\n",
        "  else:\n",
        "    largest = n3\n",
        "\n",
        "  return (largest, \"is the the largest among all the three numbers\")\n",
        "\n",
        "n1,n2,n3=1,2,3\n",
        "\n",
        "print(max_of_all(n1, n2, n3))"
      ],
      "metadata": {
        "id": "Kyq4xWUVYAlV",
        "colab": {
          "base_uri": "https://localhost:8080/"
        },
        "outputId": "80e22c25-43ce-44b0-f1f0-5a457eb697e8"
      },
      "execution_count": 72,
      "outputs": [
        {
          "output_type": "stream",
          "name": "stdout",
          "text": [
            "(3, 'is the the largest among all the three numbers')\n"
          ]
        }
      ]
    },
    {
      "cell_type": "code",
      "source": [
        "# Question No 9:\n",
        "string=\"ABBA\"\n",
        "if string[::-1] == string:\n",
        "  print(True)\n",
        "else:\n",
        "  print(False)"
      ],
      "metadata": {
        "id": "bxSinDIFXqoi",
        "colab": {
          "base_uri": "https://localhost:8080/"
        },
        "outputId": "94afec78-b40f-4d95-c5ca-f9cd4c3bcc66"
      },
      "execution_count": 73,
      "outputs": [
        {
          "output_type": "stream",
          "name": "stdout",
          "text": [
            "True\n"
          ]
        }
      ]
    },
    {
      "cell_type": "code",
      "source": [
        "# Question No 10:\n",
        "# Input the student's score\n",
        "score = 90\n",
        "\n",
        "# Define the grading scale\n",
        "if 90 <= score <= 100:\n",
        "    grade = 'A'\n",
        "elif 80 <= score < 90:\n",
        "    grade = 'B'\n",
        "elif 70 <= score < 80:\n",
        "    grade = 'C'\n",
        "elif 60 <= score < 70:\n",
        "    grade = 'D'\n",
        "elif 0 <= score < 60:\n",
        "    grade = 'F'\n",
        "else:\n",
        "    grade = 'Invalid Score'\n",
        "\n",
        "# Output the calculated grade\n",
        "print(f\"The student's grade is: {grade}\")\n",
        "\n"
      ],
      "metadata": {
        "id": "vGWikOctXqjq",
        "colab": {
          "base_uri": "https://localhost:8080/"
        },
        "outputId": "43068285-2331-4cdf-c7b7-bd629f4c668d"
      },
      "execution_count": 74,
      "outputs": [
        {
          "output_type": "stream",
          "name": "stdout",
          "text": [
            "The student's grade is: A\n"
          ]
        }
      ]
    },
    {
      "cell_type": "markdown",
      "source": [
        "**Nested If-Else Statements:**\n",
        "11. Write a program to find the largest among three numbers using nested if-else statements.\n",
        "12. Implement a program to determine if a triangle is equilateral, isosceles, or scalene.\n",
        "13. Develop a program that checks if a year is a leap year and also if it is a century year.\n",
        "14. Write a Python script to determine if a number is positive, negative, or zero.\n",
        "15. Create a program to check if a person is a teenager (between 13 and 19 years old).\n",
        "16. Develop a program that determines the type of angle based on its measure (acute, obtuse, or right).\n",
        "17. Write a Python program to calculate the roots of a quadratic equation.\n",
        "18. Implement a program to determine the day of the week based on a user-provided number (1 for Monday, 2\n",
        "for Tuesday, etc.).\n",
        "19. Create a program that determines if a year is a leap year and also if it is evenly divisible by 400.\n",
        "20. Develop a program that checks if a given number is prime or not using nested if-else statements."
      ],
      "metadata": {
        "id": "wfSvbUA4V4oT"
      }
    },
    {
      "cell_type": "code",
      "source": [
        "# Question No 1 :\n",
        "# Input three numbers\n",
        "num1 ,num2,num3=1,2,3\n",
        "\n",
        "# Compare and find the largest number\n",
        "if num1 >= num2:\n",
        "    if num1 >= num3:\n",
        "        largest = num1\n",
        "    else:\n",
        "        largest = num3\n",
        "else:\n",
        "    if num2 >= num3:\n",
        "        largest = num2\n",
        "    else:\n",
        "        largest = num3\n",
        "\n",
        "print(\"The largest number is\", largest)\n"
      ],
      "metadata": {
        "id": "XD1Ye8zlV9py",
        "colab": {
          "base_uri": "https://localhost:8080/"
        },
        "outputId": "3962131a-6851-43eb-ba53-84d0e9290e37"
      },
      "execution_count": 75,
      "outputs": [
        {
          "output_type": "stream",
          "name": "stdout",
          "text": [
            "The largest number is 3\n"
          ]
        }
      ]
    },
    {
      "cell_type": "code",
      "source": [
        "# Question No 2 :\n",
        "# Input sides of the triangle\n",
        "side1,side2,side3=1,2,2\n",
        "\n",
        "# Check triangle type\n",
        "if side1 == side2 == side3:\n",
        "    print(\"Equilateral triangle\")\n",
        "elif side1 == side2 or side1 == side3 or side2 == side3:\n",
        "    print(\"Isosceles triangle\")\n",
        "else:\n",
        "    print(\"Scalene triangle\")\n"
      ],
      "metadata": {
        "colab": {
          "base_uri": "https://localhost:8080/"
        },
        "id": "dbgRMZGUONok",
        "outputId": "ee721672-4727-465b-ac4d-7cb034627c9b"
      },
      "execution_count": 76,
      "outputs": [
        {
          "output_type": "stream",
          "name": "stdout",
          "text": [
            "Isosceles triangle\n"
          ]
        }
      ]
    },
    {
      "cell_type": "code",
      "source": [
        "# Question No 3 :\n",
        "# Input a year\n",
        "year = 2050\n",
        "\n",
        "# Check if it's a leap year\n",
        "if (year % 4 == 0 and year % 100 != 0) or (year % 400 == 0):\n",
        "    print(year, \"is a leap year\")\n",
        "else:\n",
        "    print(year, \"is not a leap year\")\n",
        "\n",
        "# Check if it's a century year\n",
        "if year % 100 == 0:\n",
        "    print(year, \"is a century year\")\n",
        "else:\n",
        "    print(year, \"is not a century year\")\n"
      ],
      "metadata": {
        "colab": {
          "base_uri": "https://localhost:8080/"
        },
        "id": "sFWyW3CXOM4S",
        "outputId": "82d2b31e-2988-4908-a1ba-7584e7fd8f09"
      },
      "execution_count": 77,
      "outputs": [
        {
          "output_type": "stream",
          "name": "stdout",
          "text": [
            "2050 is not a leap year\n",
            "2050 is not a century year\n"
          ]
        }
      ]
    },
    {
      "cell_type": "code",
      "source": [
        "# Question No 4 :\n",
        "# Input a number\n",
        "number = 0\n",
        "\n",
        "if number > 0:\n",
        "    print(\"Positive\")\n",
        "elif number < 0:\n",
        "    print(\"Negative\")\n",
        "else:\n",
        "    print(\"Zero\")\n"
      ],
      "metadata": {
        "colab": {
          "base_uri": "https://localhost:8080/"
        },
        "id": "w7HuoIOOOMqc",
        "outputId": "b73fe1dd-ad60-4c4f-da9f-55bc470cd8a2"
      },
      "execution_count": 78,
      "outputs": [
        {
          "output_type": "stream",
          "name": "stdout",
          "text": [
            "Zero\n"
          ]
        }
      ]
    },
    {
      "cell_type": "code",
      "source": [
        "# Question No 5 :\n",
        "# Input age\n",
        "age = 18\n",
        "\n",
        "if 13 <= age <= 19:\n",
        "    print(\"Teenager\")\n",
        "else:\n",
        "    print(\"Not a teenager\")\n"
      ],
      "metadata": {
        "colab": {
          "base_uri": "https://localhost:8080/"
        },
        "id": "u4h1575YOMb_",
        "outputId": "a7dc1b31-19fd-4dcf-83a3-8c9a24582132"
      },
      "execution_count": 79,
      "outputs": [
        {
          "output_type": "stream",
          "name": "stdout",
          "text": [
            "Teenager\n"
          ]
        }
      ]
    },
    {
      "cell_type": "code",
      "source": [
        "# Question No 6 :\n",
        "# Input angle measure\n",
        "angle = 90\n",
        "\n",
        "\n",
        "if angle < 90:\n",
        "    print(\"Acute angle\")\n",
        "elif angle == 90:\n",
        "    print(\"Right angle\")\n",
        "else:\n",
        "    print(\"Obtuse angle\")\n"
      ],
      "metadata": {
        "colab": {
          "base_uri": "https://localhost:8080/"
        },
        "id": "J4Y4_o4gOMOW",
        "outputId": "0f32a7c1-c444-484a-a443-a7ac278c2567"
      },
      "execution_count": 80,
      "outputs": [
        {
          "output_type": "stream",
          "name": "stdout",
          "text": [
            "Right angle\n"
          ]
        }
      ]
    },
    {
      "cell_type": "code",
      "source": [
        "# Question No 7 :\n",
        "import math\n",
        "\n",
        "# Input coefficients of the quadratic equation\n",
        "a = float(5)\n",
        "b = float(7)\n",
        "c = float(2)\n",
        "\n",
        "# Calculate the discriminant\n",
        "discriminant = b**2 - 4*a*c\n",
        "\n",
        "if discriminant > 0:\n",
        "    root1 = (-b + math.sqrt(discriminant)) / (2*a)\n",
        "    root2 = (-b - math.sqrt(discriminant)) / (2*a)\n",
        "    print(\"Two real and distinct roots:\", root1, \"and\", root2)\n",
        "elif discriminant == 0:\n",
        "    root = -b / (2*a)\n",
        "    print(\"One real root:\", root)\n",
        "else:\n",
        "    realPart = -b / (2*a)\n",
        "    imaginaryPart = math.sqrt(-discriminant) / (2*a)\n",
        "    print(\"Two complex roots:\", realPart, \"+\", imaginaryPart, \"i and\", realPart, \"-\", imaginaryPart, \"i\")\n"
      ],
      "metadata": {
        "colab": {
          "base_uri": "https://localhost:8080/"
        },
        "id": "1Lmq9dL8OL_R",
        "outputId": "e2e2fb3e-0aeb-4a88-adf1-cb9ab765ae0c"
      },
      "execution_count": 81,
      "outputs": [
        {
          "output_type": "stream",
          "name": "stdout",
          "text": [
            "Two real and distinct roots: -0.4 and -1.0\n"
          ]
        }
      ]
    },
    {
      "cell_type": "code",
      "source": [
        "# Question No 8 :\n",
        "# Input a number (1 for Monday, 2 for Tuesday, etc.)\n",
        "day_number = 7\n",
        "\n",
        "days = [\"Monday\", \"Tuesday\", \"Wednesday\", \"Thursday\", \"Friday\", \"Saturday\", \"Sunday\"]\n",
        "\n",
        "if 1 <= day_number <= 7:\n",
        "    print(\"It's\", days[day_number - 1])\n",
        "else:\n",
        "    print(\"Invalid input\")\n"
      ],
      "metadata": {
        "colab": {
          "base_uri": "https://localhost:8080/"
        },
        "id": "5b9JiZjaOLt2",
        "outputId": "10f0f0bc-5b9f-45c7-9ecc-a7673524832d"
      },
      "execution_count": 82,
      "outputs": [
        {
          "output_type": "stream",
          "name": "stdout",
          "text": [
            "It's Sunday\n"
          ]
        }
      ]
    },
    {
      "cell_type": "code",
      "source": [
        "# Question No 9 :\n",
        "# Input a year\n",
        "year = 2100\n",
        "\n",
        "# Check if it's a leap year\n",
        "if (year % 4 == 0 and year % 100 != 0) or (year % 400 == 0):\n",
        "    print(year, \"is a leap year\")\n",
        "    if year % 400 == 0:\n",
        "        print(year, \"is evenly divisible by 400\")\n",
        "    else:\n",
        "        print(year, \"is not evenly divisible by 400\")\n",
        "else:\n",
        "    print(year, \"is not a leap year\")\n"
      ],
      "metadata": {
        "colab": {
          "base_uri": "https://localhost:8080/"
        },
        "id": "Fz_dNcmZOLYQ",
        "outputId": "fb4fbb8c-21a8-42ce-c503-e46c1a5baf8a"
      },
      "execution_count": 83,
      "outputs": [
        {
          "output_type": "stream",
          "name": "stdout",
          "text": [
            "2100 is not a leap year\n"
          ]
        }
      ]
    },
    {
      "cell_type": "code",
      "source": [
        "# Question No 10 :\n",
        "# Input a number\n",
        "num = 2\n",
        "\n",
        "if num > 1:\n",
        "    for i in range(2, int(num**0.5) + 1):\n",
        "        if num % i == 0:\n",
        "            print(num, \"is not a prime number\")\n",
        "            break\n",
        "    else:\n",
        "        print(num, \"is a prime number\")\n",
        "else:\n",
        "    print(num, \"is not a prime number\")\n"
      ],
      "metadata": {
        "colab": {
          "base_uri": "https://localhost:8080/"
        },
        "id": "HQjlJMiGOLBL",
        "outputId": "992767b2-c490-497d-f70b-74c628587dc1"
      },
      "execution_count": 84,
      "outputs": [
        {
          "output_type": "stream",
          "name": "stdout",
          "text": [
            "2 is a prime number\n"
          ]
        }
      ]
    },
    {
      "cell_type": "markdown",
      "source": [
        "**Elif** **Statements**:\n",
        "21. Write a Python program to assign grades based on different ranges of scores using elif statements.\n",
        "22. Implement a program to determine the type of a triangle based on its angles.\n",
        "23. Develop a program to categorize a given person's BMI into underweight, normal, overweight, or obese using\n",
        "elif statements.\n",
        "24. Create a program that determines whether a given number is positive, negative, or zero using elif\n",
        "statements.\n",
        "25. Write a Python script to determine the type of a character (uppercase, lowercase, or special) using elif\n",
        "statements.\n",
        "26. Implement a program to calculate the discounted price based on different purchase amounts using elif\n",
        "statements.\n",
        "27. Develop a program to calculate the electricity bill based on different consumption slabs using elif\n",
        "statements.\n",
        "28. Create a program to determine the type of quadrilateral based on its angles and sides using elif\n",
        "statements.\n",
        "29. Write a Python script to determine the season based on a user-provided month using elif statements.\n",
        "30. Implement a program to determine the type of a year (leap or common) and month (30 or 31 days) using\n",
        "elif statements."
      ],
      "metadata": {
        "id": "BlQbeI9cV-A3"
      }
    },
    {
      "cell_type": "code",
      "source": [
        "# Question No 1 :\n",
        "score = 85  # Default score value\n",
        "\n",
        "if score >= 90:\n",
        "    grade = 'A'\n",
        "elif score >= 80:\n",
        "    grade = 'B'\n",
        "elif score >= 70:\n",
        "    grade = 'C'\n",
        "elif score >= 60:\n",
        "    grade = 'D'\n",
        "else:\n",
        "    grade = 'F'\n",
        "\n",
        "print(f'Grade: {grade}')\n"
      ],
      "metadata": {
        "colab": {
          "base_uri": "https://localhost:8080/"
        },
        "id": "xcHRWx-tOhdd",
        "outputId": "ec45fba5-bd72-4bc9-e14c-d117185f3286"
      },
      "execution_count": 85,
      "outputs": [
        {
          "output_type": "stream",
          "name": "stdout",
          "text": [
            "Grade: B\n"
          ]
        }
      ]
    },
    {
      "cell_type": "code",
      "source": [
        "# Question No 2 :\n",
        "angle1 = 60  # Default angle1 value\n",
        "angle2 = 60  # Default angle2 value\n",
        "angle3 = 60  # Default angle3 value\n",
        "\n",
        "if angle1 == angle2 == angle3 == 60:\n",
        "    triangle_type = \"Equilateral\"\n",
        "elif angle1 == angle2 or angle1 == angle3 or angle2 == angle3:\n",
        "    triangle_type = \"Isosceles\"\n",
        "else:\n",
        "    triangle_type = \"Scalene\"\n",
        "\n",
        "print(f'Triangle Type: {triangle_type}')\n"
      ],
      "metadata": {
        "colab": {
          "base_uri": "https://localhost:8080/"
        },
        "id": "U3uB-G0LOhde",
        "outputId": "4f626a50-298a-4200-afa1-da0f2c4bc2cb"
      },
      "execution_count": 86,
      "outputs": [
        {
          "output_type": "stream",
          "name": "stdout",
          "text": [
            "Triangle Type: Equilateral\n"
          ]
        }
      ]
    },
    {
      "cell_type": "code",
      "source": [
        "# Question No 3 :\n",
        "weight = 70  # Default weight in kg\n",
        "height = 1.75  # Default height in meters\n",
        "\n",
        "bmi = weight / (height ** 2)\n",
        "\n",
        "if bmi < 18.5:\n",
        "    category = \"Underweight\"\n",
        "elif bmi < 24.9:\n",
        "    category = \"Normal\"\n",
        "elif bmi < 29.9:\n",
        "    category = \"Overweight\"\n",
        "else:\n",
        "    category = \"Obese\"\n",
        "\n",
        "print(f'BMI Category: {category}')\n"
      ],
      "metadata": {
        "colab": {
          "base_uri": "https://localhost:8080/"
        },
        "id": "Lb8fxTXvOhdf",
        "outputId": "5f8ad468-206e-4614-fa47-8ce32938137c"
      },
      "execution_count": 87,
      "outputs": [
        {
          "output_type": "stream",
          "name": "stdout",
          "text": [
            "BMI Category: Normal\n"
          ]
        }
      ]
    },
    {
      "cell_type": "code",
      "source": [
        "# Question No 4 :\n",
        "number = 10  # Default number value\n",
        "\n",
        "if number > 0:\n",
        "    result = \"Positive\"\n",
        "elif number < 0:\n",
        "    result = \"Negative\"\n",
        "else:\n",
        "    result = \"Zero\"\n",
        "\n",
        "print(f'Number is {result}')\n"
      ],
      "metadata": {
        "colab": {
          "base_uri": "https://localhost:8080/"
        },
        "id": "ed4vzwQzOhdf",
        "outputId": "65d31edd-9f13-4f42-d6a6-0e211d849e48"
      },
      "execution_count": 88,
      "outputs": [
        {
          "output_type": "stream",
          "name": "stdout",
          "text": [
            "Number is Positive\n"
          ]
        }
      ]
    },
    {
      "cell_type": "code",
      "source": [
        "# Question No 5 :\n",
        "char = '@'  # Default character value\n",
        "\n",
        "if char.isalpha():\n",
        "    if char.islower():\n",
        "        char_type = \"Lowercase\"\n",
        "    else:\n",
        "        char_type = \"Uppercase\"\n",
        "else:\n",
        "    char_type = \"Special Character\"\n",
        "\n",
        "print(f'Character Type: {char_type}')\n"
      ],
      "metadata": {
        "colab": {
          "base_uri": "https://localhost:8080/"
        },
        "id": "gpeC5FypOhdf",
        "outputId": "45e6380d-fe83-4460-9930-705528540b67"
      },
      "execution_count": 89,
      "outputs": [
        {
          "output_type": "stream",
          "name": "stdout",
          "text": [
            "Character Type: Special Character\n"
          ]
        }
      ]
    },
    {
      "cell_type": "code",
      "source": [
        "# Question No 6 :\n",
        "purchase_amount = 1000  # Default purchase amount\n",
        "\n",
        "if purchase_amount < 100:\n",
        "    discount = 0\n",
        "elif purchase_amount < 500:\n",
        "    discount = 10\n",
        "elif purchase_amount < 1000:\n",
        "    discount = 20\n",
        "else:\n",
        "    discount = 30\n",
        "\n",
        "discounted_price = purchase_amount - (purchase_amount * discount / 100)\n",
        "\n",
        "print(f'Discounted Price: ${discounted_price}')\n"
      ],
      "metadata": {
        "colab": {
          "base_uri": "https://localhost:8080/"
        },
        "id": "HHEvCKlSOhdh",
        "outputId": "4f9d4709-f7a8-411e-c9ca-bcafeb5474b4"
      },
      "execution_count": 90,
      "outputs": [
        {
          "output_type": "stream",
          "name": "stdout",
          "text": [
            "Discounted Price: $700.0\n"
          ]
        }
      ]
    },
    {
      "cell_type": "code",
      "source": [
        "# Question No 7 :\n",
        "consumption = 200  # Default electricity consumption in kWh\n",
        "\n",
        "if consumption <= 50:\n",
        "    rate = 0.5\n",
        "elif consumption <= 150:\n",
        "    rate = 0.75\n",
        "elif consumption <= 250:\n",
        "    rate = 1.2\n",
        "else:\n",
        "    rate = 1.5\n",
        "\n",
        "electricity_bill = consumption * rate\n",
        "\n",
        "print(f'Electricity Bill: ${electricity_bill}')\n"
      ],
      "metadata": {
        "colab": {
          "base_uri": "https://localhost:8080/"
        },
        "id": "ExptaqdsOhdi",
        "outputId": "2b7b4ef2-0ad0-4c4d-8086-59e3b3b20b9a"
      },
      "execution_count": 91,
      "outputs": [
        {
          "output_type": "stream",
          "name": "stdout",
          "text": [
            "Electricity Bill: $240.0\n"
          ]
        }
      ]
    },
    {
      "cell_type": "code",
      "source": [
        "# Question No 8 :\n",
        "angle1 = 90  # Default angle1 value\n",
        "angle2 = 90  # Default angle2 value\n",
        "angle3 = 90  # Default angle3 value\n",
        "angle4 = 90  # Default angle4 value\n",
        "\n",
        "if angle1 == angle2 == angle3 == angle4 == 90:\n",
        "    quadrilateral_type = \"Square\"\n",
        "elif angle1 == angle2 == angle3 == angle4:\n",
        "    quadrilateral_type = \"Rectangle\"\n",
        "else:\n",
        "    quadrilateral_type = \"Other\"\n",
        "\n",
        "print(f'Quadrilateral Type: {quadrilateral_type}')\n"
      ],
      "metadata": {
        "colab": {
          "base_uri": "https://localhost:8080/"
        },
        "id": "-KhJ6f1xOhdi",
        "outputId": "0f6a166e-c6f6-400d-9c91-fab322aa03e3"
      },
      "execution_count": 92,
      "outputs": [
        {
          "output_type": "stream",
          "name": "stdout",
          "text": [
            "Quadrilateral Type: Square\n"
          ]
        }
      ]
    },
    {
      "cell_type": "code",
      "source": [
        "# Question No 9 :\n",
        "month = \"March\"  # Default month value\n",
        "\n",
        "if month in (\"December\", \"January\", \"February\"):\n",
        "    season = \"Winter\"\n",
        "elif month in (\"March\", \"April\", \"May\"):\n",
        "    season = \"Spring\"\n",
        "elif month in (\"June\", \"July\", \"August\"):\n",
        "    season = \"Summer\"\n",
        "else:\n",
        "    season = \"Fall\"\n",
        "\n",
        "print(f'Season: {season}')\n"
      ],
      "metadata": {
        "colab": {
          "base_uri": "https://localhost:8080/"
        },
        "id": "WY9cNsM4Ohdi",
        "outputId": "39ebfed6-84da-414f-81be-123d3eed8af7"
      },
      "execution_count": 93,
      "outputs": [
        {
          "output_type": "stream",
          "name": "stdout",
          "text": [
            "Season: Spring\n"
          ]
        }
      ]
    },
    {
      "cell_type": "code",
      "source": [
        "# Question No 10 :\n",
        "year = 2024  # Default year value\n",
        "month = \"February\"  # Default month value\n",
        "\n",
        "if year % 4 == 0:\n",
        "    leap_year = True\n",
        "else:\n",
        "    leap_year = False\n",
        "\n",
        "if month in (\"January\", \"March\", \"May\", \"July\", \"August\", \"October\", \"December\"):\n",
        "    days = 31\n",
        "elif month == \"February\":\n",
        "    if leap_year:\n",
        "        days = 29\n",
        "    else:\n",
        "        days = 28\n",
        "else:\n",
        "    days = 30\n",
        "\n",
        "print(f'Year Type: {\"Leap\" if leap_year else \"Common\"}')\n",
        "print(f'Month Days: {days} days')\n"
      ],
      "metadata": {
        "colab": {
          "base_uri": "https://localhost:8080/"
        },
        "id": "yh2Y5PIeOhdi",
        "outputId": "7a048ce8-a141-44c1-ed73-2088812d1ee6"
      },
      "execution_count": 94,
      "outputs": [
        {
          "output_type": "stream",
          "name": "stdout",
          "text": [
            "Year Type: Leap\n",
            "Month Days: 29 days\n"
          ]
        }
      ]
    },
    {
      "cell_type": "markdown",
      "source": [
        "**Basic Level:**\n",
        "1. Write a Python program that checks if a given number is positive, negative, or zero.\n",
        "2. Create a program to determine if a person is eligible to vote based on their age.\n",
        "3. Write a program to find the maximum of two given numbers using conditional statements.\n",
        "4. Develop a program that calculates the grade of a student based on their exam score.\n",
        "5. Create a program that checks if a year is a leap year or not.\n",
        "6. Write a program to classify a triangle based on its sides' lengths.\n",
        "7. Build a program that determines the largest of three given numbers.\n",
        "8. Develop a program that checks whether a character is a vowel or a consonant.\n",
        "9. Create a program to calculate the total cost of a shopping cart based on discounts.\n",
        "10. Write a program that checks if a given number is even or odd."
      ],
      "metadata": {
        "id": "9LHjDGRWWZ9O"
      }
    },
    {
      "cell_type": "code",
      "source": [
        "# Question No 1 :\n",
        "number = float(5.5)\n",
        "\n",
        "if number > 0:\n",
        "    print(\"The number is positive.\")\n",
        "elif number < 0:\n",
        "    print(\"The number is negative.\")\n",
        "else:\n",
        "    print(\"The number is zero.\")\n"
      ],
      "metadata": {
        "colab": {
          "base_uri": "https://localhost:8080/"
        },
        "id": "wvrcH91TOkpd",
        "outputId": "ecc1c6bf-f342-4bd4-c52d-8db36bc27d83"
      },
      "execution_count": 95,
      "outputs": [
        {
          "output_type": "stream",
          "name": "stdout",
          "text": [
            "The number is positive.\n"
          ]
        }
      ]
    },
    {
      "cell_type": "code",
      "source": [
        "# Question No 2 :\n",
        "age = int(input(\"Enter your age: \"))\n",
        "\n",
        "if age >= 18:\n",
        "    print(\"You are eligible to vote.\")\n",
        "else:\n",
        "    print(\"You are not eligible to vote.\")\n"
      ],
      "metadata": {
        "id": "dUKU-7TYOkpq"
      },
      "execution_count": null,
      "outputs": []
    },
    {
      "cell_type": "code",
      "source": [
        "# Question No 3 :\n",
        "num1 = float(input(\"Enter the first number: \"))\n",
        "num2 = float(input(\"Enter the second number: \")\n",
        "\n",
        "if num1 > num2:\n",
        "    print(\"The maximum is\", num1)\n",
        "else:\n",
        "    print(\"The maximum is\", num2)\n"
      ],
      "metadata": {
        "id": "xge5tZouOkpq"
      },
      "execution_count": null,
      "outputs": []
    },
    {
      "cell_type": "code",
      "source": [
        "# Question No 4 :\n",
        "number = int(input(\"Enter a number: \"))\n",
        "\n",
        "if number % 2 == 0:\n",
        "    print(\"The number is even.\")\n",
        "else:\n",
        "    print(\"The number is odd.\")\n",
        "\n"
      ],
      "metadata": {
        "id": "MsJlyUuLOkpq"
      },
      "execution_count": null,
      "outputs": []
    },
    {
      "cell_type": "code",
      "source": [
        "# Question No 5 :\n",
        "num1 = float(input(\"Enter the first number: \"))\n",
        "num2 = float(input(\"Enter the second number: \")\n",
        "\n",
        "if num1 > num2:\n",
        "    print(\"The maximum is\", num1)\n",
        "else:\n",
        "    print(\"The maximum is\", num2)\n"
      ],
      "metadata": {
        "id": "zrEyDEWjOkpq"
      },
      "execution_count": null,
      "outputs": []
    },
    {
      "cell_type": "code",
      "source": [
        "# Question No 6 :\n",
        "score = float(input(\"Enter the exam score: \"))\n",
        "\n",
        "if score >= 90:\n",
        "    grade = 'A'\n",
        "elif score >= 80:\n",
        "    grade = 'B'\n",
        "elif score >= 70:\n",
        "    grade = 'C'\n",
        "elif score >= 60:\n",
        "    grade = 'D'\n",
        "else:\n",
        "    grade = 'F'\n",
        "\n",
        "print(\"The grade is:\", grade)\n"
      ],
      "metadata": {
        "id": "t92Wk-0bOkpq"
      },
      "execution_count": null,
      "outputs": []
    },
    {
      "cell_type": "code",
      "source": [
        "# Question No 7 :\n",
        "year = int(input(\"Enter a year: \"))\n",
        "\n",
        "if (year % 4 == 0 and year % 100 != 0) or (year % 400 == 0):\n",
        "    print(\"It's a leap year.\")\n",
        "else:\n",
        "    print(\"It's not a leap year.\")\n"
      ],
      "metadata": {
        "id": "F9IakTw7Okpr"
      },
      "execution_count": null,
      "outputs": []
    },
    {
      "cell_type": "code",
      "source": [
        "# Question No 8 :\n",
        "side1 = float(input(\"Enter the length of the first side: \"))\n",
        "side2 = float(input(\"Enter the length of the second side: \"))\n",
        "side3 = float(input(\"Enter the length of the third side: \"))\n",
        "\n",
        "if side1 == side2 == side3:\n",
        "    print(\"Equilateral triangle\")\n",
        "elif side1 == side2 or side1 == side3 or side2 == side3:\n",
        "    print(\"Isosceles triangle\")\n",
        "else:\n",
        "    print(\"Scalene triangle\")\n"
      ],
      "metadata": {
        "id": "_vEc4p5OOkpr"
      },
      "execution_count": null,
      "outputs": []
    },
    {
      "cell_type": "code",
      "source": [
        "# Question No 9 :\n",
        "num1 = float(input(\"Enter the first number: \"))\n",
        "num2 = float(input(\"Enter the second number: \"))\n",
        "num3 = float(input(\"Enter the third number: \"))\n",
        "\n",
        "max_num = max(num1, num2, num3)\n",
        "print(\"The largest number is:\", max_num)\n"
      ],
      "metadata": {
        "id": "e5Ey5dKEOkpr"
      },
      "execution_count": null,
      "outputs": []
    },
    {
      "cell_type": "code",
      "source": [
        "# Question No 10 :\n",
        "char = input(\"Enter a character: \")\n",
        "\n",
        "if char.lower() in ['a', 'e', 'i', 'o', 'u']:\n",
        "    print(\"It's a vowel.\")\n",
        "else:\n",
        "    print(\"It's a consonant.\")\n"
      ],
      "metadata": {
        "id": "IqCmfp9zOkpr"
      },
      "execution_count": null,
      "outputs": []
    },
    {
      "cell_type": "markdown",
      "source": [
        "**Intermediate Level:**\n",
        "11. Write a program that calculates the roots of a quadratic equation .\n",
        "12. Create a program that determines the day of the week based on the day number (1-7).\n",
        "13. Develop a program that calculates the factorial of a given number using recursion.\n",
        "14. Write a program to find the largest among three numbers without using the `max()` function.\n",
        "15. Create a program that simulates a basic ATM transaction menu.\n",
        "16. Build a program that checks if a given string is a palindrome or not.\n",
        "17. Write a program that calculates the average of a list of numbers, excluding the smallest and largest values.\n",
        "18. Develop a program that converts a given temperature from Celsius to Fahrenheit.\n",
        "19. Create a program that simulates a basic calculator for addition, subtraction, multiplication, and division.\n",
        "20. Write a program that determines the roots of a cubic equation using the Cardano formula."
      ],
      "metadata": {
        "id": "QLrBVpj5Wax-"
      }
    },
    {
      "cell_type": "code",
      "source": [
        "# Question No 1 :\n",
        "import math\n",
        "\n",
        "def quadratic_roots(a, b, c):\n",
        "    discriminant = b**2 - 4*a*c\n",
        "    if discriminant > 0:\n",
        "        root1 = (-b + math.sqrt(discriminant)) / (2*a)\n",
        "        root2 = (-b - math.sqrt(discriminant)) / (2*a)\n",
        "        return root1, root2\n",
        "    elif discriminant == 0:\n",
        "        root = -b / (2*a)\n",
        "        return root\n",
        "    else:\n",
        "        real_part = -b / (2*a)\n",
        "        imaginary_part = math.sqrt(abs(discriminant)) / (2*a)\n",
        "        return (real_part + imaginary_part*1j, real_part - imaginary_part*1j)\n",
        "\n",
        "a = 1  # Coefficient of x^2\n",
        "b = -3  # Coefficient of x\n",
        "c = 2  # Constant term\n",
        "\n",
        "roots = quadratic_roots(a, b, c)\n",
        "print(\"Roots:\", roots)\n"
      ],
      "metadata": {
        "id": "hp2HFPtMOpKD"
      },
      "execution_count": null,
      "outputs": []
    },
    {
      "cell_type": "code",
      "source": [
        "# Question No 2 :\n",
        "def get_day_of_week(day_number):\n",
        "    days = [\"Sunday\", \"Monday\", \"Tuesday\", \"Wednesday\", \"Thursday\", \"Friday\", \"Saturday\"]\n",
        "    if 1 <= day_number <= 7:\n",
        "        return days[day_number - 1]\n",
        "    else:\n",
        "        return \"Invalid day number\"\n",
        "\n",
        "day_number = 3  # Change this to the desired day number\n",
        "day = get_day_of_week(day_number)\n",
        "print(\"Day of the week:\", day)\n"
      ],
      "metadata": {
        "id": "3rARhlR4OpKD"
      },
      "execution_count": null,
      "outputs": []
    },
    {
      "cell_type": "code",
      "source": [
        "# Question No 3 :\n",
        "def factorial(n):\n",
        "    if n == 0:\n",
        "        return 1\n",
        "    else:\n",
        "        return n * factorial(n - 1)\n",
        "\n",
        "number = 5  # Change this to the desired number\n",
        "result = factorial(number)\n",
        "print(\"Factorial of\", number, \"is\", result)\n"
      ],
      "metadata": {
        "id": "9agCGs3POpKE"
      },
      "execution_count": null,
      "outputs": []
    },
    {
      "cell_type": "code",
      "source": [
        "# Question No 4 :\n",
        "def find_largest(a, b, c):\n",
        "    if a >= b and a >= c:\n",
        "        return a\n",
        "    elif b >= a and b >= c:\n",
        "        return b\n",
        "    else:\n",
        "        return c\n",
        "\n",
        "num1 = 10\n",
        "num2 = 20\n",
        "num3 = 15\n",
        "\n",
        "largest = find_largest(num1, num2, num3)\n",
        "print(\"The largest number is:\", largest)\n"
      ],
      "metadata": {
        "id": "KB_ragKfOpKE"
      },
      "execution_count": null,
      "outputs": []
    },
    {
      "cell_type": "code",
      "source": [
        "# Question No 5 :\n",
        "balance = 1000\n",
        "\n",
        "def display_balance():\n",
        "    print(\"Your account balance is $\" + str(balance))\n",
        "\n",
        "def deposit(amount):\n",
        "    global balance\n",
        "    balance += amount\n",
        "    print(\"$\" + str(amount) + \" has been deposited into your account.\")\n",
        "\n",
        "def withdraw(amount):\n",
        "    global balance\n",
        "    if balance >= amount:\n",
        "        balance -= amount\n",
        "        print(\"$\" + str(amount) + \" has been withdrawn from your account.\")\n",
        "    else:\n",
        "        print(\"Insufficient balance.\")\n",
        "\n",
        "while True:\n",
        "    print(\"\\nATM Menu:\")\n",
        "    print(\"1. Display Balance\")\n",
        "    print(\"2. Deposit\")\n",
        "    print(\"3. Withdraw\")\n",
        "    print(\"4. Exit\")\n",
        "\n",
        "    choice = int(input(\"Enter your choice: \"))\n",
        "\n",
        "    if choice == 1:\n",
        "        display_balance()\n",
        "    elif choice == 2:\n",
        "        amount = float(input(\"Enter the deposit amount: $\"))\n",
        "        deposit(amount)\n",
        "    elif choice == 3:\n",
        "        amount = float(input(\"Enter the withdrawal amount: $\"))\n",
        "        withdraw(amount)\n",
        "    elif choice == 4:\n",
        "        print(\"Thank you for using the ATM. Goodbye!\")\n",
        "        break\n",
        "    else:\n",
        "        print(\"Invalid choice. Please try again.\")\n"
      ],
      "metadata": {
        "id": "kU90xqAyOpKE"
      },
      "execution_count": null,
      "outputs": []
    },
    {
      "cell_type": "code",
      "source": [
        "# Question No 6 :\n",
        "def is_palindrome(s):\n",
        "    s = s.lower()\n",
        "    s = s.replace(\" \", \"\")\n",
        "    return s == s[::-1]\n",
        "\n",
        "input_string = \"A man a plan a canal Panama\"  # Change this to the desired string\n",
        "if is_palindrome(input_string):\n",
        "    print(\"The string is a palindrome.\")\n",
        "else:\n",
        "    print(\"The string is not a palindrome.\")\n"
      ],
      "metadata": {
        "id": "F8IJIy5BOpKE"
      },
      "execution_count": null,
      "outputs": []
    },
    {
      "cell_type": "code",
      "source": [
        "# Question No 7 :\n",
        "def calculate_average(numbers):\n",
        "    if len(numbers) <= 2:\n",
        "        return 0\n",
        "\n",
        "    numbers.sort()\n",
        "    trimmed_numbers = numbers[1:-1]\n",
        "    return sum(trimmed_numbers) / len(trimmed_numbers)\n",
        "\n",
        "number_list = [12, 5, 8, 20, 10]  # Change this to your list of numbers\n",
        "average = calculate_average(number_list)\n",
        "print(\"The average (excluding the smallest and largest) is:\", average)\n"
      ],
      "metadata": {
        "id": "vhZUT_oFOpKF"
      },
      "execution_count": null,
      "outputs": []
    },
    {
      "cell_type": "code",
      "source": [
        "# Question No 8 :\n",
        "def celsius_to_fahrenheit(celsius):\n",
        "    return (celsius * 9/5) + 32\n",
        "\n",
        "celsius_temp = 25  # Change this to the desired Celsius temperature\n",
        "fahrenheit_temp = celsius_to_fahrenheit(celsius_temp)\n",
        "print(f\"{celsius_temp}°C is equal to {fahrenheit_temp}°F\")\n"
      ],
      "metadata": {
        "id": "1FoLyun5OpKF"
      },
      "execution_count": null,
      "outputs": []
    },
    {
      "cell_type": "code",
      "source": [
        "# Question No 9 :\n",
        "def add(x, y):\n",
        "    return x + y\n",
        "\n",
        "def subtract(x, y):\n",
        "    return x - y\n",
        "\n",
        "def multiply(x, y):\n",
        "    return x * y\n",
        "\n",
        "def divide(x, y):\n",
        "    if y == 0:\n",
        "        return \"Division by zero is not allowed.\"\n",
        "    return x / y\n",
        "\n",
        "print(\"Select operation:\")\n",
        "print(\"1. Add\")\n",
        "print(\"2. Subtract\")\n",
        "print(\"3. Multiply\")\n",
        "print(\"4. Divide\")\n",
        "\n",
        "choice = int(input(\"Enter choice (1/2/3/4): \"))\n",
        "\n",
        "num1 = float(input(\"Enter first number: \"))\n",
        "num2 = float(input(\"Enter second number: \"))\n",
        "\n",
        "if choice == 1:\n",
        "    result = add(num1, num2)\n",
        "    print(\"Result: \", result)\n",
        "elif choice == 2:\n",
        "    result = subtract(num1, num2)\n",
        "    print(\"Result: \", result)\n",
        "elif choice == 3:\n",
        "    result = multiply(num1, num2)\n",
        "    print(\"Result: \", result)\n",
        "elif choice == 4:\n",
        "    result = divide(num1, num2)\n",
        "    print(\"Result: \", result)\n",
        "else:\n",
        "    print(\"Invalid input\")\n"
      ],
      "metadata": {
        "id": "kzC9LCdNOpKF"
      },
      "execution_count": null,
      "outputs": []
    },
    {
      "cell_type": "code",
      "source": [
        "# Question No 10 :\n",
        "import cmath  # Import the complex math module\n",
        "\n",
        "def cubic_roots(a, b, c, d):\n",
        "    # Calculate the discriminants\n",
        "    discriminant1 = (b**2) - (3 * a * c)\n",
        "    discriminant2 = (2 * (b**3)) - (9 * a * b * c) + (27 * a**2 * d)\n",
        "\n",
        "    # Calculate the discriminant of the Cardano formula\n",
        "    D = discriminant2**2 - 4 * discriminant1**3\n",
        "\n",
        "    if D > 0:\n",
        "        # Three real roots\n",
        "        Q = ((D + cmath.sqrt(D)) / 2) ** (1/3)\n",
        "        S = (Q + (discriminant2 / (2 * Q))) ** (1/3)\n",
        "        T = (Q - (discriminant2 / (2 * Q))) ** (1/3)\n",
        "\n",
        "        root1 = (-b / (3 * a)) + S + T\n",
        "        return root1\n",
        "    elif D == 0:\n",
        "        # One real root, two complex roots\n",
        "        Q = ((discriminant2 / 2) ** (1/3))\n",
        "\n",
        "        root1 = (-b / (3 * a)) + 2 * Q\n",
        "        root2 = (-b / (3 * a)) - Q - Q\n",
        "        return root1, root2\n",
        "    else:\n",
        "        # Three real roots (one real, two complex conjugates)\n",
        "        Q = ((D + cmath.sqrt(D)) / 2) ** (1/3)\n",
        "        S = (Q + (discriminant2 / (2 * Q))) ** (1/3)\n",
        "        T = (Q - (discriminant2 / (2 * Q))) ** (1/3)\n",
        "\n",
        "        root1 = (-b / (3 * a)) + S + T\n",
        "        return root1\n",
        "\n",
        "# Input coefficients for the cubic equation (ax^3 + bx^2 + cx + d = 0)\n",
        "a = 1\n",
        "b = -6\n",
        "c = 11\n",
        "d = -6\n",
        "\n",
        "roots = cubic_roots(a, b, c, d)\n",
        "print(\"Roots:\", roots)\n"
      ],
      "metadata": {
        "id": "9mIcp7xZOpKF"
      },
      "execution_count": null,
      "outputs": []
    },
    {
      "cell_type": "markdown",
      "source": [
        "**Advanced Level:**\n",
        "21. Create a program that calculates the income tax based on the user's income and tax brackets.\n",
        "22. Write a program that simulates a rock-paper-scissors game against the computer.\n",
        "23. Develop a program that generates a random password based on user preferences (length, complexity).\n",
        "24. Create a program that implements a simple text-based adventure game with branching scenarios.\n",
        "25. Build a program that solves a linear equation for x, considering different cases.\n",
        "26. Write a program that simulates a basic quiz game with multiple-choice questions and scoring.\n",
        "27. Develop a program that determines whether a given year is a prime number or not.\n",
        "28. Create a program that sorts three numbers in ascending order using conditional statements.\n",
        "29. Build a program that determines the roots of a quartic equation using numerical methods.\n",
        "30. Write a program that calculates the BMI (Body Mass Index) and provides health recommendations based\n",
        "on the user's input."
      ],
      "metadata": {
        "id": "HEVqndxdWbiT"
      }
    },
    {
      "cell_type": "code",
      "source": [
        "# Question No 1 :\n"
      ],
      "metadata": {
        "id": "V8t1XZGYOoiE"
      },
      "execution_count": null,
      "outputs": []
    },
    {
      "cell_type": "code",
      "source": [
        "# Question No 2 :\n"
      ],
      "metadata": {
        "id": "csDmlOwrOoiF"
      },
      "execution_count": null,
      "outputs": []
    },
    {
      "cell_type": "code",
      "source": [
        "# Question No 3 :\n"
      ],
      "metadata": {
        "id": "LwtW8UhjOoiF"
      },
      "execution_count": null,
      "outputs": []
    },
    {
      "cell_type": "code",
      "source": [
        "# Question No 4 :\n"
      ],
      "metadata": {
        "id": "OgCHA1y7OoiF"
      },
      "execution_count": null,
      "outputs": []
    },
    {
      "cell_type": "code",
      "source": [
        "# Question No 5 :\n"
      ],
      "metadata": {
        "id": "Bm-mQ5iUOoiF"
      },
      "execution_count": null,
      "outputs": []
    },
    {
      "cell_type": "code",
      "source": [
        "# Question No 6 :\n"
      ],
      "metadata": {
        "id": "0PN1dv5AOoiF"
      },
      "execution_count": null,
      "outputs": []
    },
    {
      "cell_type": "code",
      "source": [
        "# Question No 7 :\n"
      ],
      "metadata": {
        "id": "SiUvM3oPOoiG"
      },
      "execution_count": null,
      "outputs": []
    },
    {
      "cell_type": "code",
      "source": [
        "# Question No 8 :\n"
      ],
      "metadata": {
        "id": "HK1_4-6SOoiG"
      },
      "execution_count": null,
      "outputs": []
    },
    {
      "cell_type": "code",
      "source": [
        "# Question No 9 :\n"
      ],
      "metadata": {
        "id": "rmYoOIlAOoiG"
      },
      "execution_count": null,
      "outputs": []
    },
    {
      "cell_type": "code",
      "source": [
        "# Question No 10 :\n"
      ],
      "metadata": {
        "id": "aLwBwfjeOoiG"
      },
      "execution_count": null,
      "outputs": []
    },
    {
      "cell_type": "markdown",
      "source": [
        "**Challenge Level:**\n",
        "31. Create a program that validates a password based on complexity rules (length, characters, etc.).\n",
        "32. Develop a program that performs matrix addition and subtraction based on user input.\n",
        "33. Write a program that calculates the greatest common divisor (GCD) of two numbers using the Euclidean\n",
        "algorithm.\n",
        "34. Build a program that performs matrix multiplication using nested loops and conditional statements.\n",
        "35. Create a program that simulates a basic text-based tic-tac-toe game against the computer.\n",
        "36. Write a program that generates Fibonacci numbers up to a specified term using iterative methods.\n",
        "37. Develop a program that calculates the nth term of the Fibonacci sequence using memoization.\n",
        "38. Create a program that generates a calendar for a given month and year using conditional statements.\n",
        "39. Build a program that simulates a basic text-based blackjack game against the computer.\n",
        "40. Write a program that generates the prime factors of a given number using trial division."
      ],
      "metadata": {
        "id": "pUD3gkvQWcl0"
      }
    },
    {
      "cell_type": "code",
      "source": [
        "# Question No 1 :\n"
      ],
      "metadata": {
        "id": "F07gIem7On4Y"
      },
      "execution_count": null,
      "outputs": []
    },
    {
      "cell_type": "code",
      "source": [
        "# Question No 2 :\n"
      ],
      "metadata": {
        "id": "-3tS8r9eOn4Z"
      },
      "execution_count": null,
      "outputs": []
    },
    {
      "cell_type": "code",
      "source": [
        "# Question No 3 :\n"
      ],
      "metadata": {
        "id": "iljycsJSOn4Z"
      },
      "execution_count": null,
      "outputs": []
    },
    {
      "cell_type": "code",
      "source": [
        "# Question No 4 :\n"
      ],
      "metadata": {
        "id": "Eq_tlvcDOn4a"
      },
      "execution_count": null,
      "outputs": []
    },
    {
      "cell_type": "code",
      "source": [
        "# Question No 5 :\n"
      ],
      "metadata": {
        "id": "79-2RCXZOn4a"
      },
      "execution_count": null,
      "outputs": []
    },
    {
      "cell_type": "code",
      "source": [
        "# Question No 6 :\n"
      ],
      "metadata": {
        "id": "hSK91UQmOn4b"
      },
      "execution_count": null,
      "outputs": []
    },
    {
      "cell_type": "code",
      "source": [
        "# Question No 7 :\n"
      ],
      "metadata": {
        "id": "nNWafaHkOn4b"
      },
      "execution_count": null,
      "outputs": []
    },
    {
      "cell_type": "code",
      "source": [
        "# Question No 8 :\n"
      ],
      "metadata": {
        "id": "zr6qqXTEOn4c"
      },
      "execution_count": null,
      "outputs": []
    },
    {
      "cell_type": "code",
      "source": [
        "# Question No 9 :\n"
      ],
      "metadata": {
        "id": "A_3QMQxzOn4c"
      },
      "execution_count": null,
      "outputs": []
    },
    {
      "cell_type": "code",
      "source": [
        "# Question No 10 :\n"
      ],
      "metadata": {
        "id": "uolSFB1HOn4c"
      },
      "execution_count": null,
      "outputs": []
    }
  ]
}