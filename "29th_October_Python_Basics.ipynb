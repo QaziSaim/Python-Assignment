{
  "nbformat": 4,
  "nbformat_minor": 0,
  "metadata": {
    "colab": {
      "provenance": [],
      "authorship_tag": "ABX9TyO93u+ea9pLMHTSQvrvC+BO",
      "include_colab_link": true
    },
    "kernelspec": {
      "name": "python3",
      "display_name": "Python 3"
    },
    "language_info": {
      "name": "python"
    }
  },
  "cells": [
    {
      "cell_type": "markdown",
      "metadata": {
        "id": "view-in-github",
        "colab_type": "text"
      },
      "source": [
        "<a href=\"https://colab.research.google.com/github/QaziSaim/Python-Assignment/blob/main/%2229th_October_Python_Basics.ipynb\" target=\"_parent\"><img src=\"https://colab.research.google.com/assets/colab-badge.svg\" alt=\"Open In Colab\"/></a>"
      ]
    },
    {
      "cell_type": "markdown",
      "source": [
        "<h1> Assignment No 1 <h1>"
      ],
      "metadata": {
        "id": "s2lAgLrvlLSG"
      }
    },
    {
      "cell_type": "markdown",
      "source": [
        "TOPIC: Python Basics Variable\n",
        "1. Declare two variables, `x` and `y`, and assign them integer values. Swap the\n",
        "values of these variables without using any temporary variable.\n",
        "2. Create a program that calculates the area of a rectangle. Take the length and\n",
        "width as inputs from the user and store them in variables. Calculate and\n",
        "display the area.\n",
        "3. Write a Python program that converts temperatures from Celsius to\n",
        "Fahrenheit. Take the temperature in Celsius as input, store it in a variable,\n",
        "convert it to Fahrenheit, and display the result."
      ],
      "metadata": {
        "id": "YpVxPzPSl0U_"
      }
    },
    {
      "cell_type": "code",
      "execution_count": null,
      "metadata": {
        "colab": {
          "base_uri": "https://localhost:8080/"
        },
        "id": "7qkM1asMkhbr",
        "outputId": "cf52f448-67f5-4d54-8a84-edd95fa4dea6"
      },
      "outputs": [
        {
          "output_type": "stream",
          "name": "stdout",
          "text": [
            "Before Swap: num1=3 num2 = 2\n",
            "After Swap: num1=2 num2 = 3\n"
          ]
        }
      ],
      "source": [
        "num1=3\n",
        "num2=2\n",
        "print(f'Before Swap: num1={num1} num2 = {num2}')\n",
        "num1=num1+num2 # 3+2 = 5\n",
        "num2=num1-num2 # 5-2 = 3\n",
        "num1=num1-num2 # 5-3 = 2\n",
        "print(f'After Swap: num1={num1} num2 = {num2}')"
      ]
    },
    {
      "cell_type": "code",
      "source": [
        "# Question No 2 : Area of rectangle\n",
        "length = int(input(\" Enter length \"))\n",
        "width = int(input(\" Enter width \"))\n",
        "area_of_rectangle=length * width\n",
        "print(f'The Area of rectangle is {area_of_rectangle}')"
      ],
      "metadata": {
        "colab": {
          "base_uri": "https://localhost:8080/"
        },
        "id": "uu7AL6Klmzu_",
        "outputId": "c8152512-e202-4f87-84dc-707eb102c2c0"
      },
      "execution_count": null,
      "outputs": [
        {
          "output_type": "stream",
          "name": "stdout",
          "text": [
            " Enter length 5\n",
            " Enter width 3\n",
            "The Area of rectangle is 15\n"
          ]
        }
      ]
    },
    {
      "cell_type": "code",
      "source": [
        "# Question No 3 : converts temperatures from Celsius to Fahrenheit\n",
        "Celsius = int(input(\" Enter Celsius \"))\n",
        "print(f\"tempratures in Celsius = {Celsius} \")\n",
        "Fahrenheit = Celsius * (9/5) +32\n",
        "print(f'temperatures in Fahrenheit = {Fahrenheit} ')"
      ],
      "metadata": {
        "colab": {
          "base_uri": "https://localhost:8080/"
        },
        "id": "qjPUPc0_nsT0",
        "outputId": "4afd6b0f-4c34-4dce-d417-f1138a579e20"
      },
      "execution_count": null,
      "outputs": [
        {
          "output_type": "stream",
          "name": "stdout",
          "text": [
            " Enter Celsius100\n",
            "tempratures in Celsius = 100 \n",
            "temperatures in Fahrenheit = 212.0 \n"
          ]
        }
      ]
    },
    {
      "cell_type": "markdown",
      "source": [
        "TOPIC: String Based Questions\n",
        "1. Write a Python program that takes a string as input and prints the length of\n",
        "the string.\n",
        "2. Create a program that takes a sentence from the user and counts the number\n",
        "of vowels (a, e, i, o, u) in the string.\n",
        "3. Given a string, reverse the order of characters using string slicing and print\n",
        "the reversed string.\n",
        "4. Write a program that takes a string as input and checks if it is a palindrome\n",
        "(reads the same forwards and backwards).\n",
        "5. Create a program that takes a string as input and removes all the spaces from\n",
        "it. Print the modified string without spaces."
      ],
      "metadata": {
        "id": "qf117ycjpU-e"
      }
    },
    {
      "cell_type": "code",
      "source": [
        "# Question No 1 : length of string\n",
        "Name=input(\"Enter Name : \")\n",
        "# Python have inbuilt len() function to calculate the length of string\n",
        "print(f'Length of string is Name = {Name} length = {len(Name)}')"
      ],
      "metadata": {
        "colab": {
          "base_uri": "https://localhost:8080/"
        },
        "id": "tg8MCOJPpaoQ",
        "outputId": "6252b59a-a749-4242-eef1-86ef33008e3c"
      },
      "execution_count": null,
      "outputs": [
        {
          "output_type": "stream",
          "name": "stdout",
          "text": [
            "Enter Name : Saim\n",
            "Length of string is Name = Saim length = 4\n"
          ]
        }
      ]
    },
    {
      "cell_type": "code",
      "source": [
        "# Question No 2 : Count the number of vowels\n",
        "sentance=input(\"Enter Sentance \")\n",
        "count=0\n",
        "Vowels = [\"A\",\"E\",\"I\",\"O\",\"U\",\"a\",\"e\",\"i\",\"o\",\"u\"]\n",
        "\n",
        "for i in sentance:\n",
        "  if i in Vowels:\n",
        "    count+=1\n",
        "print(count)"
      ],
      "metadata": {
        "id": "NjORXcvXqOFD"
      },
      "execution_count": null,
      "outputs": []
    },
    {
      "cell_type": "code",
      "source": [
        "# Question No 3 : Reverse String\n",
        "string = input(\"Enter String \")\n",
        "# using slice operation in string\n",
        "print(f'string before reverse =  {string} After = {string[::-1]} ')"
      ],
      "metadata": {
        "colab": {
          "base_uri": "https://localhost:8080/"
        },
        "id": "2agmwQ6VsNQr",
        "outputId": "dc892332-ec4a-4c53-f734-0aa4eb7fb8fa"
      },
      "execution_count": null,
      "outputs": [
        {
          "output_type": "stream",
          "name": "stdout",
          "text": [
            "Enter String SAIM\n",
            "string before reverse =  SAIM After = MIAS \n"
          ]
        }
      ]
    },
    {
      "cell_type": "code",
      "source": [
        "# Question No 4 : Palindrom String\n",
        "string = input(\" Enter String \")\n",
        "# To check the palindrom string the simple method is swap the first character to last character if string is equal then it is palindrom\n",
        "if string == string[::-1]:\n",
        "  print(\"String is Palindrom\")\n",
        "else:\n",
        "  print(\"String is not Palindrom\")"
      ],
      "metadata": {
        "colab": {
          "base_uri": "https://localhost:8080/"
        },
        "id": "G6pG0LJ1uAjQ",
        "outputId": "e0d9f579-cfce-40be-81ad-32725fcabb0c"
      },
      "execution_count": null,
      "outputs": [
        {
          "output_type": "stream",
          "name": "stdout",
          "text": [
            " Enter String ABA\n",
            "String is Palindrom\n"
          ]
        }
      ]
    },
    {
      "cell_type": "code",
      "source": [
        "# Question No 5 : Remove spaces\n",
        "string = input(\"Enter String : \")\n",
        "print(f\"Before Removing Space string = {string}\")\n",
        "replace=string.replace(\" \",\"\")\n",
        "print(f\"After Removing Space string = {replace}\")\n"
      ],
      "metadata": {
        "colab": {
          "base_uri": "https://localhost:8080/"
        },
        "id": "31w8vWL3ulDy",
        "outputId": "f8f26bfb-6e33-4d06-f32c-f3a663626ce8"
      },
      "execution_count": null,
      "outputs": [
        {
          "output_type": "stream",
          "name": "stdout",
          "text": [
            "Enter String : saim qazi\n",
            "Before Removing Space string = saim qazi\n",
            "After Removing Space string = saimqazi\n"
          ]
        }
      ]
    },
    {
      "cell_type": "code",
      "source": [],
      "metadata": {
        "id": "0eoSRY8_vhlx"
      },
      "execution_count": null,
      "outputs": []
    }
  ]
}