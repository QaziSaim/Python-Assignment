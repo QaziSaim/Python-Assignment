{
  "nbformat": 4,
  "nbformat_minor": 0,
  "metadata": {
    "colab": {
      "provenance": [],
      "authorship_tag": "ABX9TyMjaai+fRSPcvM+SQswPOol",
      "include_colab_link": true
    },
    "kernelspec": {
      "name": "python3",
      "display_name": "Python 3"
    },
    "language_info": {
      "name": "python"
    }
  },
  "cells": [
    {
      "cell_type": "markdown",
      "metadata": {
        "id": "view-in-github",
        "colab_type": "text"
      },
      "source": [
        "<a href=\"https://colab.research.google.com/github/QaziSaim/Python-Assignment/blob/main/1st_march_Numpy_assignment_ipynbst.ipynb\" target=\"_parent\"><img src=\"https://colab.research.google.com/assets/colab-badge.svg\" alt=\"Open In Colab\"/></a>"
      ]
    },
    {
      "cell_type": "markdown",
      "source": [
        "What is a Python library? Why do we use Python libraries?\n",
        "\n",
        "A Python library is a collection of pre-written code that provides functionalities to perform certain tasks without the need to write code from scratch. Python libraries contain modules, functions, and methods that developers can utilize to expedite development, enhance functionality, and solve specific problems efficiently.\n"
      ],
      "metadata": {
        "id": "udtC5c-4hCyR"
      }
    },
    {
      "cell_type": "markdown",
      "source": [
        "What is the difference between Numpy array and List?\n",
        "\n",
        "Numpy arrays are homogeneous collections of elements with fixed size and are more efficient in terms of memory and speed for numerical operations compared to Python lists, which are heterogeneous and can contain elements of different data types.\n"
      ],
      "metadata": {
        "id": "2AzXj1Y3hQ_T"
      }
    },
    {
      "cell_type": "markdown",
      "source": [
        "Find the shape, size, and dimension of the following array?\n",
        "\n",
        "Shape: (3, 4)\n",
        "Size: 12\n",
        "Dimension: 2"
      ],
      "metadata": {
        "id": "6cPyV8IvhQ0G"
      }
    },
    {
      "cell_type": "markdown",
      "source": [],
      "metadata": {
        "id": "AW3DBJ3FhOkQ"
      }
    },
    {
      "cell_type": "code",
      "source": [
        "import numpy as np"
      ],
      "metadata": {
        "id": "KNG-5bHChjTe"
      },
      "execution_count": 1,
      "outputs": []
    },
    {
      "cell_type": "code",
      "execution_count": 2,
      "metadata": {
        "colab": {
          "base_uri": "https://localhost:8080/"
        },
        "id": "GRovLMcdg4-g",
        "outputId": "b9e774e0-8d44-464b-e785-13b03345c7d7"
      },
      "outputs": [
        {
          "output_type": "stream",
          "name": "stdout",
          "text": [
            "[1 2 3 4]\n"
          ]
        }
      ],
      "source": [
        "arr = np.array([[1, 2, 3, 4], [5, 6, 7, 8], [9, 10, 11, 12]])\n",
        "first_row = arr[0]\n",
        "print(first_row)\n"
      ]
    },
    {
      "cell_type": "code",
      "source": [
        "arr = np.array([[1, 2, 3, 4], [5, 6, 7, 8], [9, 10, 11, 12]])\n",
        "element = arr[2, 3]\n",
        "print(element)\n"
      ],
      "metadata": {
        "colab": {
          "base_uri": "https://localhost:8080/"
        },
        "id": "P3XkRVJrhan-",
        "outputId": "8ad55e62-9711-4866-de2d-c2cf968ecddc"
      },
      "execution_count": 3,
      "outputs": [
        {
          "output_type": "stream",
          "name": "stdout",
          "text": [
            "12\n"
          ]
        }
      ]
    },
    {
      "cell_type": "code",
      "source": [
        "\n",
        "arr = np.array([[1, 2, 3, 4], [5, 6, 7, 8], [9, 10, 11, 12]])\n",
        "odd_elements = arr[::2, ::2]\n",
        "print(odd_elements)\n"
      ],
      "metadata": {
        "colab": {
          "base_uri": "https://localhost:8080/"
        },
        "id": "Q83Q3jf4hd1N",
        "outputId": "660ccb99-d66c-47fc-9abc-48712bb82dd9"
      },
      "execution_count": 4,
      "outputs": [
        {
          "output_type": "stream",
          "name": "stdout",
          "text": [
            "[[ 1  3]\n",
            " [ 9 11]]\n"
          ]
        }
      ]
    },
    {
      "cell_type": "code",
      "source": [
        "random_matrix = np.random.rand(3, 3)\n",
        "print(random_matrix)"
      ],
      "metadata": {
        "colab": {
          "base_uri": "https://localhost:8080/"
        },
        "id": "HHOrFa2RhdzS",
        "outputId": "94813bb0-f26b-4388-fffc-9cc6b35036c7"
      },
      "execution_count": 5,
      "outputs": [
        {
          "output_type": "stream",
          "name": "stdout",
          "text": [
            "[[0.83993153 0.6494302  0.91635661]\n",
            " [0.33381466 0.57824658 0.6375424 ]\n",
            " [0.59754877 0.92780451 0.03660068]]\n"
          ]
        }
      ]
    },
    {
      "cell_type": "code",
      "source": [
        "arr = np.array([[1, 2, 3, 4], [5, 6, 7, 8], [9, 10, 11, 12]])\n",
        "new_arr = np.expand_dims(arr, axis=0)\n",
        "print(new_arr.shape)"
      ],
      "metadata": {
        "colab": {
          "base_uri": "https://localhost:8080/"
        },
        "id": "xwq9pZKbhdwl",
        "outputId": "77001306-7088-4a4b-8161-ee90fa176aef"
      },
      "execution_count": 6,
      "outputs": [
        {
          "output_type": "stream",
          "name": "stdout",
          "text": [
            "(1, 3, 4)\n"
          ]
        }
      ]
    },
    {
      "cell_type": "code",
      "source": [
        "arr = np.array([[1, 2, 3, 4], [5, 6, 7, 8], [9, 10, 11, 12]])\n",
        "transposed_arr = np.transpose(arr)\n",
        "print(transposed_arr)"
      ],
      "metadata": {
        "colab": {
          "base_uri": "https://localhost:8080/"
        },
        "id": "0tTvV0vyhdtz",
        "outputId": "25ee845a-cdca-4539-be55-ecd9a4dead1d"
      },
      "execution_count": 7,
      "outputs": [
        {
          "output_type": "stream",
          "name": "stdout",
          "text": [
            "[[ 1  5  9]\n",
            " [ 2  6 10]\n",
            " [ 3  7 11]\n",
            " [ 4  8 12]]\n"
          ]
        }
      ]
    },
    {
      "cell_type": "code",
      "source": [
        "A2 = np.array([[1, 2, 3, 4], [5, 6, 7, 8], [9, 10, 11, 12]])\n",
        "B2 = np.array([[1, 2, 3, 4], [5, 6, 7, 8], [9, 10, 11, 12]])\n",
        "\n",
        "# While multiplication\n",
        "while_mul = A2 * B2\n",
        "\n",
        "# Add both matrices\n",
        "added_matrices = A2 + B2\n",
        "\n",
        "# Subtract matrix B from matrix A\n",
        "subtracted_matrix = A2 - B2\n",
        "\n",
        "# Divide Matrix B by A\n",
        "divided_matrix = B2 / A2"
      ],
      "metadata": {
        "id": "7dYInGdKhdqw"
      },
      "execution_count": 10,
      "outputs": []
    },
    {
      "cell_type": "code",
      "source": [],
      "metadata": {
        "id": "DZ_Tkn0Chdno"
      },
      "execution_count": null,
      "outputs": []
    }
  ]
}