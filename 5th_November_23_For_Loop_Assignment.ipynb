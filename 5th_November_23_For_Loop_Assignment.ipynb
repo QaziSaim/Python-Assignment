{
  "nbformat": 4,
  "nbformat_minor": 0,
  "metadata": {
    "colab": {
      "provenance": [],
      "authorship_tag": "ABX9TyMZHM98mbCL7edZU8cxDDx/",
      "include_colab_link": true
    },
    "kernelspec": {
      "name": "python3",
      "display_name": "Python 3"
    },
    "language_info": {
      "name": "python"
    }
  },
  "cells": [
    {
      "cell_type": "markdown",
      "metadata": {
        "id": "view-in-github",
        "colab_type": "text"
      },
      "source": [
        "<a href=\"https://colab.research.google.com/github/QaziSaim/Python-Assignment/blob/main/5th_November_23_For_Loop_Assignment.ipynb\" target=\"_parent\"><img src=\"https://colab.research.google.com/assets/colab-badge.svg\" alt=\"Open In Colab\"/></a>"
      ]
    },
    {
      "cell_type": "markdown",
      "source": [
        "<h2> <b>Assignment No 3 <h2>"
      ],
      "metadata": {
        "id": "AJRKNX79Burj"
      }
    },
    {
      "cell_type": "markdown",
      "source": [
        "**Basic Level:**\n",
        "1. Write a Python program to print the numbers from 1 to 10 using a `for` loop.\n",
        "2. Create a program that calculates the sum of all numbers in a list using a `for` loop.\n",
        "3. Write a program to print the characters of a string in reverse order using a `for` loop.\n",
        "4. Develop a program that finds the factorial of a given number using a `for` loop.\n",
        "5. Create a program to print the multiplication table of a given number using a `for` loop.\n",
        "6. Write a program that counts the number of even and odd numbers in a list using a `for` loop.\n",
        "7. Develop a program that prints the squares of numbers from 1 to 5 using a `for` loop.\n",
        "8. Create a program to find the length of a string without using the `len()` function.\n",
        "9. Write a program that calculates the average of a list of numbers using a `for` loop.\n",
        "10. Develop a program that prints the first `n` Fibonacci numbers using a `for` loop."
      ],
      "metadata": {
        "id": "jLdiN3dACSh9"
      }
    },
    {
      "cell_type": "code",
      "execution_count": 26,
      "metadata": {
        "colab": {
          "base_uri": "https://localhost:8080/"
        },
        "id": "eJVbPsvSBiz-",
        "outputId": "0cc47bd7-6ac9-4476-f594-7386a2db8725"
      },
      "outputs": [
        {
          "output_type": "stream",
          "name": "stdout",
          "text": [
            "1\n",
            "2\n",
            "3\n",
            "4\n",
            "5\n",
            "6\n",
            "7\n",
            "8\n",
            "9\n",
            "10\n"
          ]
        }
      ],
      "source": [
        "# Question No 1 : Print 10 number\n",
        "for i in range(1,11):\n",
        "  print(i)"
      ]
    },
    {
      "cell_type": "code",
      "source": [
        "# Question No 2 : Sum of number in list\n",
        "mark=[65,55,87,88.59]\n",
        "total=0\n",
        "for i in mark:\n",
        "  total += i\n",
        "print(f'The total mark obtained to student total = {int(total)}')"
      ],
      "metadata": {
        "colab": {
          "base_uri": "https://localhost:8080/"
        },
        "id": "J4QDyNTqCfx7",
        "outputId": "f9ddc727-6b1b-4192-fc5b-30cf2acdb938"
      },
      "execution_count": 27,
      "outputs": [
        {
          "output_type": "stream",
          "name": "stdout",
          "text": [
            "The total mark obtained to student total = 295\n"
          ]
        }
      ]
    },
    {
      "cell_type": "code",
      "source": [
        "# Question No 3 : Reverse string\n",
        "name = \"PW SKILLS\"\n",
        "for char in reversed(name):\n",
        "  print(char)"
      ],
      "metadata": {
        "colab": {
          "base_uri": "https://localhost:8080/"
        },
        "id": "s9Fl165rC7st",
        "outputId": "9542e578-966a-40cd-b667-ba6e51a7bc98"
      },
      "execution_count": 28,
      "outputs": [
        {
          "output_type": "stream",
          "name": "stdout",
          "text": [
            "S\n",
            "L\n",
            "L\n",
            "I\n",
            "K\n",
            "S\n",
            " \n",
            "W\n",
            "P\n"
          ]
        }
      ]
    },
    {
      "cell_type": "code",
      "source": [
        "# Question No 4 : factoria number\n",
        "num = 5\n",
        "factorial = 1\n",
        "for i in range(1, num + 1):\n",
        "    factorial *= i\n",
        "print(\"Factorial of\", num, \"is\", factorial)\n"
      ],
      "metadata": {
        "id": "roqxwnReDmkT",
        "colab": {
          "base_uri": "https://localhost:8080/"
        },
        "outputId": "c2362598-77a0-464c-f01d-526e6aad135b"
      },
      "execution_count": 29,
      "outputs": [
        {
          "output_type": "stream",
          "name": "stdout",
          "text": [
            "Factorial of 5 is 120\n"
          ]
        }
      ]
    },
    {
      "cell_type": "code",
      "source": [
        "# Question No 5 : multiplication table\n",
        "num = 7\n",
        "for i in range(1, 11):\n",
        "    product = num * i\n",
        "    print(f\"{num} x {i} = {product}\")"
      ],
      "metadata": {
        "colab": {
          "base_uri": "https://localhost:8080/"
        },
        "id": "-kVySBAcP4zt",
        "outputId": "3a6a38dd-bad0-4366-d86e-e9b6dcc971d2"
      },
      "execution_count": 30,
      "outputs": [
        {
          "output_type": "stream",
          "name": "stdout",
          "text": [
            "7 x 1 = 7\n",
            "7 x 2 = 14\n",
            "7 x 3 = 21\n",
            "7 x 4 = 28\n",
            "7 x 5 = 35\n",
            "7 x 6 = 42\n",
            "7 x 7 = 49\n",
            "7 x 8 = 56\n",
            "7 x 9 = 63\n",
            "7 x 10 = 70\n"
          ]
        }
      ]
    },
    {
      "cell_type": "code",
      "source": [
        "# Question No 6 : count even or odd\n",
        "numbers = [1, 2, 3, 4, 5, 6, 7, 8, 9]\n",
        "even_count = 0\n",
        "odd_count = 0\n",
        "\n",
        "for number in numbers:\n",
        "    if number % 2 == 0:\n",
        "        even_count += 1\n",
        "    else:\n",
        "        odd_count += 1\n",
        "\n",
        "print(\"Even numbers:\", even_count)\n",
        "print(\"Odd numbers:\", odd_count)"
      ],
      "metadata": {
        "colab": {
          "base_uri": "https://localhost:8080/"
        },
        "id": "5qVCm1dkP4tG",
        "outputId": "20981a53-e837-4a5f-cdcf-49c577eb6bdc"
      },
      "execution_count": 31,
      "outputs": [
        {
          "output_type": "stream",
          "name": "stdout",
          "text": [
            "Even numbers: 4\n",
            "Odd numbers: 5\n"
          ]
        }
      ]
    },
    {
      "cell_type": "code",
      "source": [
        "# Question No 7 :\n",
        "for i in range(1, 6):\n",
        "    square = i ** 2\n",
        "    print(f\"{i} squared is {square}\")\n"
      ],
      "metadata": {
        "colab": {
          "base_uri": "https://localhost:8080/"
        },
        "id": "6F9Fhg4yP4pv",
        "outputId": "333f2631-c6b1-432b-ea9d-1288ddbdfd46"
      },
      "execution_count": 32,
      "outputs": [
        {
          "output_type": "stream",
          "name": "stdout",
          "text": [
            "1 squared is 1\n",
            "2 squared is 4\n",
            "3 squared is 9\n",
            "4 squared is 16\n",
            "5 squared is 25\n"
          ]
        }
      ]
    },
    {
      "cell_type": "code",
      "source": [
        "# Question No 8 :\n",
        "my_string = \"Hello, World!\"\n",
        "count = 0\n",
        "for char in my_string:\n",
        "    count += 1\n",
        "print(\"Length of the string:\", count)\n"
      ],
      "metadata": {
        "colab": {
          "base_uri": "https://localhost:8080/"
        },
        "id": "NYa8-qkyP4k2",
        "outputId": "3a62c489-da6b-44a0-8db4-17515fccfd6b"
      },
      "execution_count": 33,
      "outputs": [
        {
          "output_type": "stream",
          "name": "stdout",
          "text": [
            "Length of the string: 13\n"
          ]
        }
      ]
    },
    {
      "cell_type": "code",
      "source": [
        "# Question No 9 :\n",
        "numbers = [10, 20, 30, 40, 50]\n",
        "total = 0\n",
        "count = 0\n",
        "\n",
        "for number in numbers:\n",
        "    total += number\n",
        "    count += 1\n",
        "\n",
        "average = total / count\n",
        "print(\"Average:\", average)"
      ],
      "metadata": {
        "colab": {
          "base_uri": "https://localhost:8080/"
        },
        "id": "JgfoRBX-Q2IF",
        "outputId": "08af8d8b-4897-4702-c3a4-a35717800219"
      },
      "execution_count": 34,
      "outputs": [
        {
          "output_type": "stream",
          "name": "stdout",
          "text": [
            "Average: 30.0\n"
          ]
        }
      ]
    },
    {
      "cell_type": "code",
      "source": [
        "# Question No 10 :\n",
        "n = 10\n",
        "a, b = 0, 1\n",
        "\n",
        "for _ in range(n):\n",
        "    print(a)\n",
        "    a, b = b, a + b"
      ],
      "metadata": {
        "colab": {
          "base_uri": "https://localhost:8080/"
        },
        "id": "NXFYx6jyQ1am",
        "outputId": "f1540fee-95f1-4a0d-93e3-f1a6032134b5"
      },
      "execution_count": 35,
      "outputs": [
        {
          "output_type": "stream",
          "name": "stdout",
          "text": [
            "0\n",
            "1\n",
            "1\n",
            "2\n",
            "3\n",
            "5\n",
            "8\n",
            "13\n",
            "21\n",
            "34\n"
          ]
        }
      ]
    },
    {
      "cell_type": "markdown",
      "source": [
        "**Intermediate** Level:\n",
        "11. Write a program to check if a given list contains any duplicates using a `for` loop.\n",
        "12. Create a program that prints the prime numbers in a given range using a `for` loop.\n",
        "13. Develop a program that counts the number of vowels in a string using a `for` loop.\n",
        "14. Write a program to find the maximum element in a 2D list using a nested `for` loop.\n",
        "15. Create a program that removes all occurrences of a specific element from a list using a `for` loop.\n",
        "16. Develop a program that generates a multiplication table for numbers from 1 to 5 using a nested `for` loop.\n",
        "17. Write a program that converts a list of Fahrenheit temperatures to Celsius using a `for` loop.\n",
        "18. Create a program to print the common elements from two lists using a `for` loop.\n",
        "19. Develop a program that prints the pattern of right-angled triangles using a `for` loop. Use ‘*’ to draw the\n",
        "pattern\n",
        "20. Write a program to find the greatest common divisor (GCD) of two numbers using a `for` loop."
      ],
      "metadata": {
        "id": "Ap9JU3UXQ2d5"
      }
    },
    {
      "cell_type": "code",
      "source": [
        "# Question No 11 :\n",
        "my_list = [1, 2, 3, 4, 2, 5]\n",
        "has_duplicates = False\n",
        "\n",
        "for i in range(len(my_list)):\n",
        "    for j in range(i + 1, len(my_list)):\n",
        "        if my_list[i] == my_list[j]:\n",
        "            has_duplicates = True\n",
        "            break\n",
        "\n",
        "if has_duplicates:\n",
        "    print(\"The list contains duplicates.\")\n",
        "else:\n",
        "    print(\"The list does not contain duplicates.\")\n"
      ],
      "metadata": {
        "colab": {
          "base_uri": "https://localhost:8080/"
        },
        "id": "VK6tp_0uQ78y",
        "outputId": "64dd8df9-f395-4f9e-984b-500faf8861f0"
      },
      "execution_count": 36,
      "outputs": [
        {
          "output_type": "stream",
          "name": "stdout",
          "text": [
            "The list contains duplicates.\n"
          ]
        }
      ]
    },
    {
      "cell_type": "code",
      "source": [
        "# Question No 12 :\n",
        "start = 10\n",
        "end = 50\n",
        "\n",
        "for num in range(start, end + 1):\n",
        "    if num > 1:\n",
        "        is_prime = True\n",
        "        for i in range(2, int(num**0.5) + 1):\n",
        "            if num % i == 0:\n",
        "                is_prime = False\n",
        "                break\n",
        "        if is_prime:\n",
        "            print(num)\n"
      ],
      "metadata": {
        "colab": {
          "base_uri": "https://localhost:8080/"
        },
        "id": "7Tc1-15QQ75g",
        "outputId": "4aa38c07-e029-450c-abe8-1d5851d41637"
      },
      "execution_count": 37,
      "outputs": [
        {
          "output_type": "stream",
          "name": "stdout",
          "text": [
            "11\n",
            "13\n",
            "17\n",
            "19\n",
            "23\n",
            "29\n",
            "31\n",
            "37\n",
            "41\n",
            "43\n",
            "47\n"
          ]
        }
      ]
    },
    {
      "cell_type": "code",
      "source": [
        "# Question No 13 :\n",
        "my_string = \"Hello, World!\"\n",
        "vowels = \"AEIOUaeiou\"\n",
        "vowel_count = 0\n",
        "\n",
        "for char in my_string:\n",
        "    if char in vowels:\n",
        "        vowel_count += 1\n",
        "\n",
        "print(\"Number of vowels:\", vowel_count)\n"
      ],
      "metadata": {
        "colab": {
          "base_uri": "https://localhost:8080/"
        },
        "id": "vWfJrza9Q72X",
        "outputId": "52e2e8ea-b4c7-45b7-f784-a55f49923fee"
      },
      "execution_count": 38,
      "outputs": [
        {
          "output_type": "stream",
          "name": "stdout",
          "text": [
            "Number of vowels: 3\n"
          ]
        }
      ]
    },
    {
      "cell_type": "code",
      "source": [
        "# Question No 14 :\n",
        "matrix = [\n",
        "    [1, 2, 3],\n",
        "    [4, 9, 6],\n",
        "    [7, 8, 5]\n",
        "]\n",
        "\n",
        "max_element = matrix[0][0]\n",
        "\n",
        "for row in matrix:\n",
        "    for element in row:\n",
        "        if element > max_element:\n",
        "            max_element = element\n",
        "\n",
        "print(\"Maximum element:\", max_element)\n"
      ],
      "metadata": {
        "colab": {
          "base_uri": "https://localhost:8080/"
        },
        "id": "wFtIw4nWQ7wf",
        "outputId": "bea8b63f-d9b4-4aff-d0b9-d2a337d13c08"
      },
      "execution_count": 39,
      "outputs": [
        {
          "output_type": "stream",
          "name": "stdout",
          "text": [
            "Maximum element: 9\n"
          ]
        }
      ]
    },
    {
      "cell_type": "code",
      "source": [
        "# Question No 15 :\n",
        "my_list = [1, 2, 3, 2, 4, 2, 5]\n",
        "element_to_remove = 2\n",
        "\n",
        "new_list = []\n",
        "\n",
        "for item in my_list:\n",
        "    if item != element_to_remove:\n",
        "        new_list.append(item)\n",
        "\n",
        "print(\"List with\", element_to_remove, \"removed:\", new_list)\n"
      ],
      "metadata": {
        "colab": {
          "base_uri": "https://localhost:8080/"
        },
        "id": "YTuUZWIdRqST",
        "outputId": "3f33f6a0-fa02-4b9c-d120-2748dced106d"
      },
      "execution_count": 40,
      "outputs": [
        {
          "output_type": "stream",
          "name": "stdout",
          "text": [
            "List with 2 removed: [1, 3, 4, 5]\n"
          ]
        }
      ]
    },
    {
      "cell_type": "code",
      "source": [
        "# Question No 16 :\n",
        "for i in range(1, 6):\n",
        "    for j in range(1, 11):\n",
        "        product = i * j\n",
        "        print(f\"{i} x {j} = {product}\")\n"
      ],
      "metadata": {
        "colab": {
          "base_uri": "https://localhost:8080/"
        },
        "id": "QiIRzOgeRsJ7",
        "outputId": "ca41ed99-cdf9-40ee-e66e-689f01856fdd"
      },
      "execution_count": 41,
      "outputs": [
        {
          "output_type": "stream",
          "name": "stdout",
          "text": [
            "1 x 1 = 1\n",
            "1 x 2 = 2\n",
            "1 x 3 = 3\n",
            "1 x 4 = 4\n",
            "1 x 5 = 5\n",
            "1 x 6 = 6\n",
            "1 x 7 = 7\n",
            "1 x 8 = 8\n",
            "1 x 9 = 9\n",
            "1 x 10 = 10\n",
            "2 x 1 = 2\n",
            "2 x 2 = 4\n",
            "2 x 3 = 6\n",
            "2 x 4 = 8\n",
            "2 x 5 = 10\n",
            "2 x 6 = 12\n",
            "2 x 7 = 14\n",
            "2 x 8 = 16\n",
            "2 x 9 = 18\n",
            "2 x 10 = 20\n",
            "3 x 1 = 3\n",
            "3 x 2 = 6\n",
            "3 x 3 = 9\n",
            "3 x 4 = 12\n",
            "3 x 5 = 15\n",
            "3 x 6 = 18\n",
            "3 x 7 = 21\n",
            "3 x 8 = 24\n",
            "3 x 9 = 27\n",
            "3 x 10 = 30\n",
            "4 x 1 = 4\n",
            "4 x 2 = 8\n",
            "4 x 3 = 12\n",
            "4 x 4 = 16\n",
            "4 x 5 = 20\n",
            "4 x 6 = 24\n",
            "4 x 7 = 28\n",
            "4 x 8 = 32\n",
            "4 x 9 = 36\n",
            "4 x 10 = 40\n",
            "5 x 1 = 5\n",
            "5 x 2 = 10\n",
            "5 x 3 = 15\n",
            "5 x 4 = 20\n",
            "5 x 5 = 25\n",
            "5 x 6 = 30\n",
            "5 x 7 = 35\n",
            "5 x 8 = 40\n",
            "5 x 9 = 45\n",
            "5 x 10 = 50\n"
          ]
        }
      ]
    },
    {
      "cell_type": "code",
      "source": [
        "# Question No 17 :\n",
        "fahrenheit_temperatures = [32, 68, 86, 104]\n",
        "celsius_temperatures = []\n",
        "\n",
        "for fahrenheit in fahrenheit_temperatures:\n",
        "    celsius = (fahrenheit - 32) * 5/9\n",
        "    celsius_temperatures.append(celsius)\n",
        "\n",
        "print(\"Celsius Temperatures:\", celsius_temperatures)\n"
      ],
      "metadata": {
        "colab": {
          "base_uri": "https://localhost:8080/"
        },
        "id": "TMxhmLHSRtHj",
        "outputId": "19a82ff3-046d-47a0-cf06-f48ca07c5012"
      },
      "execution_count": 42,
      "outputs": [
        {
          "output_type": "stream",
          "name": "stdout",
          "text": [
            "Celsius Temperatures: [0.0, 20.0, 30.0, 40.0]\n"
          ]
        }
      ]
    },
    {
      "cell_type": "code",
      "source": [
        "# Question No 18 :\n",
        "list1 = [1, 2, 3, 4, 5]\n",
        "list2 = [3, 4, 5, 6, 7]\n",
        "\n",
        "common_elements = []\n",
        "\n",
        "for element in list1:\n",
        "    if element in list2:\n",
        "        common_elements.append(element)\n",
        "\n",
        "print(\"Common elements:\", common_elements)\n"
      ],
      "metadata": {
        "colab": {
          "base_uri": "https://localhost:8080/"
        },
        "id": "uvEoPOdQRuX7",
        "outputId": "071a8729-e76f-4e83-807f-0bda0fae9a8c"
      },
      "execution_count": 43,
      "outputs": [
        {
          "output_type": "stream",
          "name": "stdout",
          "text": [
            "Common elements: [3, 4, 5]\n"
          ]
        }
      ]
    },
    {
      "cell_type": "code",
      "source": [
        "# Question No 19 :\n",
        "n = 5\n",
        "for i in range(1, n + 1):\n",
        "    print(\"*\" * i)\n"
      ],
      "metadata": {
        "colab": {
          "base_uri": "https://localhost:8080/"
        },
        "id": "NSZCcGJrRvfj",
        "outputId": "1effa43b-a711-46f5-c21c-b8db85560ae5"
      },
      "execution_count": 44,
      "outputs": [
        {
          "output_type": "stream",
          "name": "stdout",
          "text": [
            "*\n",
            "**\n",
            "***\n",
            "****\n",
            "*****\n"
          ]
        }
      ]
    },
    {
      "cell_type": "code",
      "source": [
        "# Question No 20 :\n",
        "def find_gcd(a, b):\n",
        "    while b:\n",
        "        a, b = b, a % b\n",
        "    return a\n",
        "\n",
        "num1 = 36\n",
        "num2 = 48\n",
        "gcd = find_gcd(num1, num2)\n",
        "print(\"GCD of\", num1, \"and\", num2, \"is\", gcd)\n"
      ],
      "metadata": {
        "colab": {
          "base_uri": "https://localhost:8080/"
        },
        "id": "Un7EwOJeRwlT",
        "outputId": "ca33484f-3f31-47e0-f9f1-ddf697a4ef20"
      },
      "execution_count": 45,
      "outputs": [
        {
          "output_type": "stream",
          "name": "stdout",
          "text": [
            "GCD of 36 and 48 is 12\n"
          ]
        }
      ]
    },
    {
      "cell_type": "markdown",
      "source": [
        "**Advanced** Level:\n",
        "21. Create a program that calculates the sum of the digits of numbers in a list using a list comprehension.\n",
        "22. Write a program to find the prime factors of a given number using a `for` loop and list comprehension.\n",
        "23. Develop a program that extracts unique elements from a list and stores them in a new list using a list\n",
        "comprehension.\n",
        "24. Create a program that generates a list of all palindromic numbers up to a specified limit using a list\n",
        "comprehension.\n",
        "25. Write a program to flatten a nested list using list comprehension.\n",
        "26. Develop a program that computes the sum of even and odd numbers in a list separately using list\n",
        "comprehension.\n",
        "27. Create a program that generates a list of squares of odd numbers between 1 and 10 using list\n",
        "comprehension.\n",
        "28. Write a program that combines two lists into a dictionary using list comprehension.\n",
        "29. Develop a program that extracts the vowels from a string and stores them in a list using list comprehension.\n",
        "30. Create a program that removes all non-numeric characters from a list of strings using list comprehension."
      ],
      "metadata": {
        "id": "joHXwb85SNjU"
      }
    },
    {
      "cell_type": "code",
      "source": [
        "# Question No 21 :\n",
        "numbers = [123, 456, 789]\n",
        "\n",
        "digit_sums = [sum(int(digit) for digit in str(num)) for num in numbers]\n",
        "\n",
        "print(digit_sums)\n"
      ],
      "metadata": {
        "colab": {
          "base_uri": "https://localhost:8080/"
        },
        "id": "n-UX7rqRSjh-",
        "outputId": "c56549d5-1f10-49a7-dca1-37fc363ccd45"
      },
      "execution_count": 46,
      "outputs": [
        {
          "output_type": "stream",
          "name": "stdout",
          "text": [
            "[6, 15, 24]\n"
          ]
        }
      ]
    },
    {
      "cell_type": "code",
      "source": [
        "# Question No 22 :\n",
        "def prime_factors(n):\n",
        "    factors = [i for i in range(2, n + 1) if n % i == 0]\n",
        "    prime_factors = [f for f in factors if all(f % i != 0 for i in range(2, f))]\n",
        "    return prime_factors\n",
        "\n",
        "number = 36\n",
        "print(\"Prime factors of\", number, \"are:\", prime_factors(number))\n"
      ],
      "metadata": {
        "colab": {
          "base_uri": "https://localhost:8080/"
        },
        "id": "Lqv9v0C5SlF1",
        "outputId": "794f6817-f7a3-4e49-877d-ad0575ac8acb"
      },
      "execution_count": 47,
      "outputs": [
        {
          "output_type": "stream",
          "name": "stdout",
          "text": [
            "Prime factors of 36 are: [2, 3]\n"
          ]
        }
      ]
    },
    {
      "cell_type": "code",
      "source": [
        "# Question No 23 :\n",
        "original_list = [1, 2, 2, 3, 4, 4, 5]\n",
        "\n",
        "unique_elements = list(set(original_list))\n",
        "\n",
        "print(unique_elements)\n"
      ],
      "metadata": {
        "colab": {
          "base_uri": "https://localhost:8080/"
        },
        "id": "VyMNtxDpSk9F",
        "outputId": "bedef27a-d5dd-46f9-9c91-a1a5b6caceb5"
      },
      "execution_count": 48,
      "outputs": [
        {
          "output_type": "stream",
          "name": "stdout",
          "text": [
            "[1, 2, 3, 4, 5]\n"
          ]
        }
      ]
    },
    {
      "cell_type": "code",
      "source": [
        "# Question No 24 :\n",
        "limit = 1000\n",
        "\n",
        "palindromic_numbers = [num for num in range(1, limit + 1) if str(num) == str(num)[::-1]]\n",
        "\n",
        "print(palindromic_numbers)\n"
      ],
      "metadata": {
        "colab": {
          "base_uri": "https://localhost:8080/"
        },
        "id": "xAIDhVJuSk04",
        "outputId": "bcf0fce6-cf23-41e8-bac4-2abc5978758c"
      },
      "execution_count": 49,
      "outputs": [
        {
          "output_type": "stream",
          "name": "stdout",
          "text": [
            "[1, 2, 3, 4, 5, 6, 7, 8, 9, 11, 22, 33, 44, 55, 66, 77, 88, 99, 101, 111, 121, 131, 141, 151, 161, 171, 181, 191, 202, 212, 222, 232, 242, 252, 262, 272, 282, 292, 303, 313, 323, 333, 343, 353, 363, 373, 383, 393, 404, 414, 424, 434, 444, 454, 464, 474, 484, 494, 505, 515, 525, 535, 545, 555, 565, 575, 585, 595, 606, 616, 626, 636, 646, 656, 666, 676, 686, 696, 707, 717, 727, 737, 747, 757, 767, 777, 787, 797, 808, 818, 828, 838, 848, 858, 868, 878, 888, 898, 909, 919, 929, 939, 949, 959, 969, 979, 989, 999]\n"
          ]
        }
      ]
    },
    {
      "cell_type": "code",
      "source": [
        "# Question No 25 :\n",
        "nested_list = [[1, 2, 3], [4, 5], [6, 7, 8, 9]]\n",
        "\n",
        "flattened_list = [item for sublist in nested_list for item in sublist]\n",
        "\n",
        "print(flattened_list)\n"
      ],
      "metadata": {
        "colab": {
          "base_uri": "https://localhost:8080/"
        },
        "id": "9xYXIb7sSksU",
        "outputId": "4c016e5f-d982-4b7e-b031-2bb90f490fd1"
      },
      "execution_count": 50,
      "outputs": [
        {
          "output_type": "stream",
          "name": "stdout",
          "text": [
            "[1, 2, 3, 4, 5, 6, 7, 8, 9]\n"
          ]
        }
      ]
    },
    {
      "cell_type": "code",
      "source": [
        "# Question No 26 :\n",
        "numbers = [1, 2, 3, 4, 5, 6, 7, 8, 9]\n",
        "\n",
        "even_sum = sum(num for num in numbers if num % 2 == 0)\n",
        "odd_sum = sum(num for num in numbers if num % 2 != 0)\n",
        "\n",
        "print(\"Sum of even numbers:\", even_sum)\n",
        "print(\"Sum of odd numbers:\", odd_sum)\n"
      ],
      "metadata": {
        "colab": {
          "base_uri": "https://localhost:8080/"
        },
        "id": "hDuFPuP3Skj-",
        "outputId": "de8648c2-a4c2-4af0-f4e5-41c768af8d0e"
      },
      "execution_count": 51,
      "outputs": [
        {
          "output_type": "stream",
          "name": "stdout",
          "text": [
            "Sum of even numbers: 20\n",
            "Sum of odd numbers: 25\n"
          ]
        }
      ]
    },
    {
      "cell_type": "code",
      "source": [
        "# Question No 27 :\n",
        "squares_of_odds = [x**2 for x in range(1, 11) if x % 2 != 0]\n",
        "\n",
        "print(squares_of_odds)\n"
      ],
      "metadata": {
        "colab": {
          "base_uri": "https://localhost:8080/"
        },
        "id": "jXbBxgJ0SkcK",
        "outputId": "dcfc71ba-e9b0-45a3-9f08-b8bb59c4327c"
      },
      "execution_count": 52,
      "outputs": [
        {
          "output_type": "stream",
          "name": "stdout",
          "text": [
            "[1, 9, 25, 49, 81]\n"
          ]
        }
      ]
    },
    {
      "cell_type": "code",
      "source": [
        "# Question No 28 :\n",
        "keys = ['a', 'b', 'c']\n",
        "values = [1, 2, 3]\n",
        "\n",
        "combined_dict = {k: v for k, v in zip(keys, values)}\n",
        "\n",
        "print(combined_dict)\n"
      ],
      "metadata": {
        "colab": {
          "base_uri": "https://localhost:8080/"
        },
        "id": "rvwY_3caSkT1",
        "outputId": "cc1682bd-d289-4b97-872f-9a3b11cb0675"
      },
      "execution_count": 53,
      "outputs": [
        {
          "output_type": "stream",
          "name": "stdout",
          "text": [
            "{'a': 1, 'b': 2, 'c': 3}\n"
          ]
        }
      ]
    },
    {
      "cell_type": "code",
      "source": [
        "# Question No 29 :\n",
        "text = \"Hello, World!\"\n",
        "\n",
        "vowels = [char for char in text if char.lower() in 'aeiou']\n",
        "\n",
        "print(vowels)\n"
      ],
      "metadata": {
        "colab": {
          "base_uri": "https://localhost:8080/"
        },
        "id": "f9nwXT4fSkIM",
        "outputId": "0aa1c3df-7c86-49c7-daba-44902fdf01db"
      },
      "execution_count": 54,
      "outputs": [
        {
          "output_type": "stream",
          "name": "stdout",
          "text": [
            "['e', 'o', 'o']\n"
          ]
        }
      ]
    },
    {
      "cell_type": "code",
      "source": [
        "# Question No 30 :\n",
        "string_list = [\"abc123\", \"456def\", \"789ghi\"]\n",
        "\n",
        "numeric_strings = [''.join(filter(str.isdigit, s)) for s in string_list]\n",
        "\n",
        "print(numeric_strings)\n"
      ],
      "metadata": {
        "colab": {
          "base_uri": "https://localhost:8080/"
        },
        "id": "K038UQuuSj-U",
        "outputId": "052779f6-36bc-429a-fa8c-745e8d0c1479"
      },
      "execution_count": 55,
      "outputs": [
        {
          "output_type": "stream",
          "name": "stdout",
          "text": [
            "['123', '456', '789']\n"
          ]
        }
      ]
    },
    {
      "cell_type": "markdown",
      "source": [
        "**Challenge** Level:\n",
        "31. Write a program to generate a list of prime numbers using the Sieve of Eratosthenes algorithm and list\n",
        "comprehension.\n",
        "32. Create a program that generates a list of all Pythagorean triplets up to a specified limit using list\n",
        "comprehension.\n",
        "33. Develop a program that generates a list of all possible combinations of two lists using list comprehension.\n",
        "34. Write a program that calculates the mean, median, and mode of a list of numbers using list\n",
        "comprehension.\n",
        "35. Create a program that generates Pascal's triangle up to a specified number of rows using list\n",
        "comprehension.\n",
        "36. Develop a program that calculates the sum of the digits of a factorial of numbers from 1 to 5 using list\n",
        "comprehension.\n",
        "37. Write a program that finds the longest word in a sentence using list comprehension.\n",
        "38. Create a program that filters a list of strings to include only those with more than three vowels using list\n",
        "comprehension.\n",
        "39. Develop a program that calculates the sum of the digits of numbers from 1 to 1000 using list\n",
        "comprehension.\n",
        "40. Write a program that generates a list of prime palindromic numbers using list comprehension."
      ],
      "metadata": {
        "id": "zD-0_il1Sm6W"
      }
    },
    {
      "cell_type": "code",
      "source": [
        "# Question No 31 :\n",
        "def sieve_eratosthenes(n):\n",
        "    sieve = [True] * (n + 1)\n",
        "    sieve[0] = sieve[1] = False\n",
        "    primes = [i for i in range(2, n + 1) if sieve[i]]\n",
        "\n",
        "    for p in primes:\n",
        "        for i in range(p * p, n + 1, p):\n",
        "            sieve[i] = False\n",
        "\n",
        "    return primes\n",
        "\n",
        "n = int(input(\"Enter a number: \"))\n",
        "prime_numbers = sieve_eratosthenes(n)\n",
        "print(prime_numbers)\n"
      ],
      "metadata": {
        "colab": {
          "base_uri": "https://localhost:8080/"
        },
        "id": "uY190KBkTid5",
        "outputId": "6800e5fc-4e90-431f-884c-85e7ce5bbd10"
      },
      "execution_count": 56,
      "outputs": [
        {
          "output_type": "stream",
          "name": "stdout",
          "text": [
            "Enter a number: 50\n",
            "[2, 3, 4, 5, 6, 7, 8, 9, 10, 11, 12, 13, 14, 15, 16, 17, 18, 19, 20, 21, 22, 23, 24, 25, 26, 27, 28, 29, 30, 31, 32, 33, 34, 35, 36, 37, 38, 39, 40, 41, 42, 43, 44, 45, 46, 47, 48, 49, 50]\n"
          ]
        }
      ]
    },
    {
      "cell_type": "code",
      "source": [
        "# Question No 32 :\n",
        "limit = int(input(\"Enter a limit: \"))\n",
        "pythagorean_triplets = [(a, b, c) for a in range(1, limit) for b in range(a, limit) for c in range(b, limit) if a**2 + b**2 == c**2]\n",
        "print(pythagorean_triplets)\n"
      ],
      "metadata": {
        "colab": {
          "base_uri": "https://localhost:8080/"
        },
        "id": "bf9UvqryTom3",
        "outputId": "99e0c034-1b71-4ac2-a7e7-0feddfcfcc7e"
      },
      "execution_count": 57,
      "outputs": [
        {
          "output_type": "stream",
          "name": "stdout",
          "text": [
            "Enter a limit: 10\n",
            "[(3, 4, 5)]\n"
          ]
        }
      ]
    },
    {
      "cell_type": "code",
      "source": [
        "# Question No 33 :\n",
        "list1 = [1, 2, 3]\n",
        "list2 = ['a', 'b', 'c']\n",
        "combinations = [(x, y) for x in list1 for y in list2]\n",
        "print(combinations)\n"
      ],
      "metadata": {
        "colab": {
          "base_uri": "https://localhost:8080/"
        },
        "id": "Rn_NrNNZTodP",
        "outputId": "ad3c52ca-4805-4b92-b681-9b21b57b12f4"
      },
      "execution_count": 58,
      "outputs": [
        {
          "output_type": "stream",
          "name": "stdout",
          "text": [
            "[(1, 'a'), (1, 'b'), (1, 'c'), (2, 'a'), (2, 'b'), (2, 'c'), (3, 'a'), (3, 'b'), (3, 'c')]\n"
          ]
        }
      ]
    },
    {
      "cell_type": "code",
      "source": [
        "# Question No 34 :\n",
        "from statistics import mean, median, mode\n",
        "\n",
        "numbers = [1, 2, 3, 4, 5, 6, 6, 7, 8]\n",
        "mean_value = mean(numbers)\n",
        "median_value = median(numbers)\n",
        "mode_value = mode(numbers)\n",
        "\n",
        "print(f\"Mean: {mean_value}\")\n",
        "print(f\"Median: {median_value}\")\n",
        "print(f\"Mode: {mode_value}\")\n"
      ],
      "metadata": {
        "colab": {
          "base_uri": "https://localhost:8080/"
        },
        "id": "TjAIQGGVToS-",
        "outputId": "c1cdce27-1cff-4fad-b7a6-b9fe605bb491"
      },
      "execution_count": 59,
      "outputs": [
        {
          "output_type": "stream",
          "name": "stdout",
          "text": [
            "Mean: 4.666666666666667\n",
            "Median: 5\n",
            "Mode: 6\n"
          ]
        }
      ]
    },
    {
      "cell_type": "code",
      "source": [
        "# Question No 35 :\n",
        "def generate_pascals_triangle(n):\n",
        "    triangle = [[1] * (i + 1) for i in range(n)]\n",
        "    for i in range(2, n):\n",
        "        for j in range(1, i):\n",
        "            triangle[i][j] = triangle[i-1][j-1] + triangle[i-1][j]\n",
        "    return triangle\n",
        "\n",
        "num_rows = int(input(\"Enter the number of rows: \"))\n",
        "pascals_triangle = generate_pascals_triangle(num_rows)\n",
        "for row in pascals_triangle:\n",
        "    print(row)\n"
      ],
      "metadata": {
        "colab": {
          "base_uri": "https://localhost:8080/"
        },
        "id": "A2h8aVhXToIu",
        "outputId": "0decf9d4-f3bf-463f-8225-a3e4c72c59ce"
      },
      "execution_count": 60,
      "outputs": [
        {
          "output_type": "stream",
          "name": "stdout",
          "text": [
            "Enter the number of rows: 6\n",
            "[1]\n",
            "[1, 1]\n",
            "[1, 2, 1]\n",
            "[1, 3, 3, 1]\n",
            "[1, 4, 6, 4, 1]\n",
            "[1, 5, 10, 10, 5, 1]\n"
          ]
        }
      ]
    },
    {
      "cell_type": "code",
      "source": [
        "# Question No 36 :\n",
        "import math\n",
        "\n",
        "factorial_sums = [sum(int(digit) for digit in str(math.factorial(n))) for n in range(1, 6)]\n",
        "print(factorial_sums)\n"
      ],
      "metadata": {
        "colab": {
          "base_uri": "https://localhost:8080/"
        },
        "id": "b47dvtMkTuUZ",
        "outputId": "4c6ba511-8295-4e29-97cc-03538005062d"
      },
      "execution_count": 61,
      "outputs": [
        {
          "output_type": "stream",
          "name": "stdout",
          "text": [
            "[1, 2, 6, 6, 3]\n"
          ]
        }
      ]
    },
    {
      "cell_type": "code",
      "source": [
        "# Question No 37 :\n",
        "sentence = \"This is a sample sentence to find the longest word.\"\n",
        "longest_word = max(sentence.split(), key=len)\n",
        "print(longest_word)\n"
      ],
      "metadata": {
        "colab": {
          "base_uri": "https://localhost:8080/"
        },
        "id": "G7sw0nRYTwuh",
        "outputId": "12cb6b75-eb17-426a-e9dd-9018f46f968c"
      },
      "execution_count": 62,
      "outputs": [
        {
          "output_type": "stream",
          "name": "stdout",
          "text": [
            "sentence\n"
          ]
        }
      ]
    },
    {
      "cell_type": "code",
      "source": [
        "# Question No 38 :\n",
        "words = [\"apple\", \"banana\", \"cherry\", \"elephant\", \"grape\", \"kiwi\"]\n",
        "vowel_count = lambda word: sum(1 for letter in word if letter in 'aeiouAEIOU')\n",
        "filtered_words = [word for word in words if vowel_count(word) > 3]\n",
        "print(filtered_words)\n"
      ],
      "metadata": {
        "colab": {
          "base_uri": "https://localhost:8080/"
        },
        "id": "kvdCoxJoTwMN",
        "outputId": "f3677d54-344c-40d3-d895-0e2283b34af4"
      },
      "execution_count": 63,
      "outputs": [
        {
          "output_type": "stream",
          "name": "stdout",
          "text": [
            "[]\n"
          ]
        }
      ]
    },
    {
      "cell_type": "code",
      "source": [
        "# Question No 39 :\n",
        "digit_sums = [sum(int(digit) for digit in str(n)) for n in range(1, 1001)]\n",
        "print(digit_sums)\n"
      ],
      "metadata": {
        "colab": {
          "base_uri": "https://localhost:8080/"
        },
        "id": "n5t-G_BrTwDQ",
        "outputId": "adf4110e-f6a7-46b9-f262-d224fcc4fba7"
      },
      "execution_count": 64,
      "outputs": [
        {
          "output_type": "stream",
          "name": "stdout",
          "text": [
            "[1, 2, 3, 4, 5, 6, 7, 8, 9, 1, 2, 3, 4, 5, 6, 7, 8, 9, 10, 2, 3, 4, 5, 6, 7, 8, 9, 10, 11, 3, 4, 5, 6, 7, 8, 9, 10, 11, 12, 4, 5, 6, 7, 8, 9, 10, 11, 12, 13, 5, 6, 7, 8, 9, 10, 11, 12, 13, 14, 6, 7, 8, 9, 10, 11, 12, 13, 14, 15, 7, 8, 9, 10, 11, 12, 13, 14, 15, 16, 8, 9, 10, 11, 12, 13, 14, 15, 16, 17, 9, 10, 11, 12, 13, 14, 15, 16, 17, 18, 1, 2, 3, 4, 5, 6, 7, 8, 9, 10, 2, 3, 4, 5, 6, 7, 8, 9, 10, 11, 3, 4, 5, 6, 7, 8, 9, 10, 11, 12, 4, 5, 6, 7, 8, 9, 10, 11, 12, 13, 5, 6, 7, 8, 9, 10, 11, 12, 13, 14, 6, 7, 8, 9, 10, 11, 12, 13, 14, 15, 7, 8, 9, 10, 11, 12, 13, 14, 15, 16, 8, 9, 10, 11, 12, 13, 14, 15, 16, 17, 9, 10, 11, 12, 13, 14, 15, 16, 17, 18, 10, 11, 12, 13, 14, 15, 16, 17, 18, 19, 2, 3, 4, 5, 6, 7, 8, 9, 10, 11, 3, 4, 5, 6, 7, 8, 9, 10, 11, 12, 4, 5, 6, 7, 8, 9, 10, 11, 12, 13, 5, 6, 7, 8, 9, 10, 11, 12, 13, 14, 6, 7, 8, 9, 10, 11, 12, 13, 14, 15, 7, 8, 9, 10, 11, 12, 13, 14, 15, 16, 8, 9, 10, 11, 12, 13, 14, 15, 16, 17, 9, 10, 11, 12, 13, 14, 15, 16, 17, 18, 10, 11, 12, 13, 14, 15, 16, 17, 18, 19, 11, 12, 13, 14, 15, 16, 17, 18, 19, 20, 3, 4, 5, 6, 7, 8, 9, 10, 11, 12, 4, 5, 6, 7, 8, 9, 10, 11, 12, 13, 5, 6, 7, 8, 9, 10, 11, 12, 13, 14, 6, 7, 8, 9, 10, 11, 12, 13, 14, 15, 7, 8, 9, 10, 11, 12, 13, 14, 15, 16, 8, 9, 10, 11, 12, 13, 14, 15, 16, 17, 9, 10, 11, 12, 13, 14, 15, 16, 17, 18, 10, 11, 12, 13, 14, 15, 16, 17, 18, 19, 11, 12, 13, 14, 15, 16, 17, 18, 19, 20, 12, 13, 14, 15, 16, 17, 18, 19, 20, 21, 4, 5, 6, 7, 8, 9, 10, 11, 12, 13, 5, 6, 7, 8, 9, 10, 11, 12, 13, 14, 6, 7, 8, 9, 10, 11, 12, 13, 14, 15, 7, 8, 9, 10, 11, 12, 13, 14, 15, 16, 8, 9, 10, 11, 12, 13, 14, 15, 16, 17, 9, 10, 11, 12, 13, 14, 15, 16, 17, 18, 10, 11, 12, 13, 14, 15, 16, 17, 18, 19, 11, 12, 13, 14, 15, 16, 17, 18, 19, 20, 12, 13, 14, 15, 16, 17, 18, 19, 20, 21, 13, 14, 15, 16, 17, 18, 19, 20, 21, 22, 5, 6, 7, 8, 9, 10, 11, 12, 13, 14, 6, 7, 8, 9, 10, 11, 12, 13, 14, 15, 7, 8, 9, 10, 11, 12, 13, 14, 15, 16, 8, 9, 10, 11, 12, 13, 14, 15, 16, 17, 9, 10, 11, 12, 13, 14, 15, 16, 17, 18, 10, 11, 12, 13, 14, 15, 16, 17, 18, 19, 11, 12, 13, 14, 15, 16, 17, 18, 19, 20, 12, 13, 14, 15, 16, 17, 18, 19, 20, 21, 13, 14, 15, 16, 17, 18, 19, 20, 21, 22, 14, 15, 16, 17, 18, 19, 20, 21, 22, 23, 6, 7, 8, 9, 10, 11, 12, 13, 14, 15, 7, 8, 9, 10, 11, 12, 13, 14, 15, 16, 8, 9, 10, 11, 12, 13, 14, 15, 16, 17, 9, 10, 11, 12, 13, 14, 15, 16, 17, 18, 10, 11, 12, 13, 14, 15, 16, 17, 18, 19, 11, 12, 13, 14, 15, 16, 17, 18, 19, 20, 12, 13, 14, 15, 16, 17, 18, 19, 20, 21, 13, 14, 15, 16, 17, 18, 19, 20, 21, 22, 14, 15, 16, 17, 18, 19, 20, 21, 22, 23, 15, 16, 17, 18, 19, 20, 21, 22, 23, 24, 7, 8, 9, 10, 11, 12, 13, 14, 15, 16, 8, 9, 10, 11, 12, 13, 14, 15, 16, 17, 9, 10, 11, 12, 13, 14, 15, 16, 17, 18, 10, 11, 12, 13, 14, 15, 16, 17, 18, 19, 11, 12, 13, 14, 15, 16, 17, 18, 19, 20, 12, 13, 14, 15, 16, 17, 18, 19, 20, 21, 13, 14, 15, 16, 17, 18, 19, 20, 21, 22, 14, 15, 16, 17, 18, 19, 20, 21, 22, 23, 15, 16, 17, 18, 19, 20, 21, 22, 23, 24, 16, 17, 18, 19, 20, 21, 22, 23, 24, 25, 8, 9, 10, 11, 12, 13, 14, 15, 16, 17, 9, 10, 11, 12, 13, 14, 15, 16, 17, 18, 10, 11, 12, 13, 14, 15, 16, 17, 18, 19, 11, 12, 13, 14, 15, 16, 17, 18, 19, 20, 12, 13, 14, 15, 16, 17, 18, 19, 20, 21, 13, 14, 15, 16, 17, 18, 19, 20, 21, 22, 14, 15, 16, 17, 18, 19, 20, 21, 22, 23, 15, 16, 17, 18, 19, 20, 21, 22, 23, 24, 16, 17, 18, 19, 20, 21, 22, 23, 24, 25, 17, 18, 19, 20, 21, 22, 23, 24, 25, 26, 9, 10, 11, 12, 13, 14, 15, 16, 17, 18, 10, 11, 12, 13, 14, 15, 16, 17, 18, 19, 11, 12, 13, 14, 15, 16, 17, 18, 19, 20, 12, 13, 14, 15, 16, 17, 18, 19, 20, 21, 13, 14, 15, 16, 17, 18, 19, 20, 21, 22, 14, 15, 16, 17, 18, 19, 20, 21, 22, 23, 15, 16, 17, 18, 19, 20, 21, 22, 23, 24, 16, 17, 18, 19, 20, 21, 22, 23, 24, 25, 17, 18, 19, 20, 21, 22, 23, 24, 25, 26, 18, 19, 20, 21, 22, 23, 24, 25, 26, 27, 1]\n"
          ]
        }
      ]
    },
    {
      "cell_type": "code",
      "source": [
        "# Question No 40 :\n",
        "def is_prime(num):\n",
        "    if num < 2:\n",
        "        return False\n",
        "    for i in range(2, int(num**0.5) + 1):\n",
        "        if num % i == 0:\n",
        "            return False\n",
        "    return True\n",
        "\n",
        "def is_palindrome(num):\n",
        "    return str(num) == str(num)[::-1]\n",
        "\n",
        "prime_palindromes = [num for num in range(1, 1000) if is_prime(num) and is_palindrome(num)]\n",
        "print(prime_palindromes)\n"
      ],
      "metadata": {
        "colab": {
          "base_uri": "https://localhost:8080/"
        },
        "id": "-MmEIZoYTv7P",
        "outputId": "23a5d00c-81d5-48fa-e078-2905f3036c36"
      },
      "execution_count": 65,
      "outputs": [
        {
          "output_type": "stream",
          "name": "stdout",
          "text": [
            "[2, 3, 5, 7, 11, 101, 131, 151, 181, 191, 313, 353, 373, 383, 727, 757, 787, 797, 919, 929]\n"
          ]
        }
      ]
    }
  ]
}